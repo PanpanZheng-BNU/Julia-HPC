{
 "cells": [
  {
   "cell_type": "markdown",
   "metadata": {},
   "source": [
    "## C02 Types, Type Inference, and Stability\n",
    "### Julia Type System\n",
    "#### Using types\n",
    "`::symbol`"
   ]
  },
  {
   "cell_type": "code",
   "execution_count": 1,
   "metadata": {},
   "outputs": [],
   "source": [
    "using BenchmarkTools"
   ]
  },
  {
   "cell_type": "code",
   "execution_count": 2,
   "metadata": {},
   "outputs": [
    {
     "data": {
      "text/plain": [
       "addme (generic function with 1 method)"
      ]
     },
     "metadata": {},
     "output_type": "display_data"
    }
   ],
   "source": [
    "iam(x::Integer) = \"an integer\"\n",
    "iam(x::String) = \"a string\"\n",
    "\n",
    "function addme(a,b)\n",
    "    x::Int64 = 2;\n",
    "    y = (a+b) /x\n",
    "    return y\n",
    "end"
   ]
  },
  {
   "cell_type": "code",
   "execution_count": 3,
   "metadata": {},
   "outputs": [
    {
     "data": {
      "text/plain": [
       "\"an integer\""
      ]
     },
     "metadata": {},
     "output_type": "display_data"
    }
   ],
   "source": [
    "iam(1)"
   ]
  },
  {
   "cell_type": "code",
   "execution_count": 4,
   "metadata": {},
   "outputs": [
    {
     "data": {
      "text/plain": [
       "\"a string\""
      ]
     },
     "metadata": {},
     "output_type": "display_data"
    }
   ],
   "source": [
    "iam(\"Hello\")"
   ]
  },
  {
   "cell_type": "code",
   "execution_count": 5,
   "metadata": {},
   "outputs": [
    {
     "ename": "MethodError",
     "evalue": "MethodError: no method matching iam(::Float64)\n\nClosest candidates are:\n  iam(!Matched::String)\n   @ Main ~/Documents/code/Jupyter/Julia-HPC/02-Types.ipynb:2\n  iam(!Matched::Integer)\n   @ Main ~/Documents/code/Jupyter/Julia-HPC/02-Types.ipynb:1\n",
     "output_type": "error",
     "traceback": [
      "MethodError: no method matching iam(::Float64)\n",
      "\n",
      "Closest candidates are:\n",
      "  iam(!Matched::String)\n",
      "   @ Main ~/Documents/code/Jupyter/Julia-HPC/02-Types.ipynb:2\n",
      "  iam(!Matched::Integer)\n",
      "   @ Main ~/Documents/code/Jupyter/Julia-HPC/02-Types.ipynb:1\n",
      "\n",
      "\n",
      "Stacktrace:\n",
      " [1] top-level scope\n",
      "   @ ~/Documents/code/Jupyter/Julia-HPC/02-Types.ipynb:1"
     ]
    }
   ],
   "source": [
    "iam(1.0)"
   ]
  },
  {
   "cell_type": "markdown",
   "metadata": {},
   "source": [
    "#### Multidispatch\n",
    "- Dispatch: dispatch is the process of selecting a function to be executed **at runtime**."
   ]
  },
  {
   "cell_type": "code",
   "execution_count": 6,
   "metadata": {},
   "outputs": [
    {
     "data": {
      "text/plain": [
       "sumsqr (generic function with 1 method)"
      ]
     },
     "metadata": {},
     "output_type": "display_data"
    }
   ],
   "source": [
    "sumsqr(x, y) = x^2 + y^2"
   ]
  },
  {
   "cell_type": "code",
   "execution_count": 7,
   "metadata": {},
   "outputs": [
    {
     "data": {
      "text/plain": [
       "5.25 + 4.0im"
      ]
     },
     "metadata": {},
     "output_type": "display_data"
    }
   ],
   "source": [
    "sumsqr(1.5, 2 + im)"
   ]
  },
  {
   "cell_type": "markdown",
   "metadata": {},
   "source": [
    "### Abstract types\n",
    "- **Abstract types** can'have any instantiated values, fileds. can only be the node of the type hierarchy, not its leaves. They represent sets of related types.\n",
    "    ```julia\n",
    "    abstract type Number ; end\n",
    "    abstract type Real     <: Number  ; end\n",
    "    abstract type FloatingPoint <: Real  ; end\n",
    "    abstract type Integer  <: Real  ; end\n",
    "    abstract type Signed   <: Integer  ; end\n",
    "    abstract type Unsigned <: Integer ; end\n",
    "    ```\n",
    "\n",
    "#### Julia's type hierarchy\n",
    "<img src=\"https://new-pic-zpp.oss-cn-guangzhou.aliyuncs.com/pic/202401151305571.png\" width=450/>\n",
    "\n",
    "- `Union{ }` type\n",
    "- `Nothing` type\n",
    "\n",
    "#### Composite and immutable types\n",
    "- `struct end`\n",
    "- `mutable struct end`"
   ]
  },
  {
   "cell_type": "code",
   "execution_count": 8,
   "metadata": {},
   "outputs": [],
   "source": [
    "struct Pixel\n",
    "    x::Int64\n",
    "    y::Int64\n",
    "    color::Int64\n",
    "end"
   ]
  },
  {
   "cell_type": "code",
   "execution_count": 9,
   "metadata": {},
   "outputs": [
    {
     "data": {
      "text/plain": [
       "Pixel(5, 5, 100)"
      ]
     },
     "metadata": {},
     "output_type": "display_data"
    }
   ],
   "source": [
    "p = Pixel(5,5,100)"
   ]
  },
  {
   "cell_type": "code",
   "execution_count": 10,
   "metadata": {},
   "outputs": [
    {
     "ename": "ErrorException",
     "evalue": "setfield!: immutable struct of type Pixel cannot be changed",
     "output_type": "error",
     "traceback": [
      "setfield!: immutable struct of type Pixel cannot be changed\n",
      "\n",
      "Stacktrace:\n",
      " [1] setproperty!(x::Pixel, f::Symbol, v::Int64)\n",
      "   @ Base ./Base.jl:41\n",
      " [2] top-level scope\n",
      "   @ ~/Documents/code/Jupyter/Julia-HPC/02-Types.ipynb:1"
     ]
    }
   ],
   "source": [
    "p.x = 10;"
   ]
  },
  {
   "cell_type": "code",
   "execution_count": 11,
   "metadata": {},
   "outputs": [
    {
     "data": {
      "text/plain": [
       "5"
      ]
     },
     "metadata": {},
     "output_type": "display_data"
    }
   ],
   "source": [
    "p.x"
   ]
  },
  {
   "cell_type": "code",
   "execution_count": 12,
   "metadata": {},
   "outputs": [],
   "source": [
    "mutable struct MPixel\n",
    "    x::Int64\n",
    "    y::Int64\n",
    "    color::Int64\n",
    "end"
   ]
  },
  {
   "cell_type": "code",
   "execution_count": 13,
   "metadata": {},
   "outputs": [
    {
     "data": {
      "text/plain": [
       "10"
      ]
     },
     "metadata": {},
     "output_type": "display_data"
    }
   ],
   "source": [
    "p = MPixel(5,5,100)\n",
    "p.x = 10"
   ]
  },
  {
   "cell_type": "code",
   "execution_count": 14,
   "metadata": {},
   "outputs": [
    {
     "data": {
      "text/plain": [
       "10"
      ]
     },
     "metadata": {},
     "output_type": "display_data"
    }
   ],
   "source": [
    "p.x"
   ]
  },
  {
   "cell_type": "markdown",
   "metadata": {},
   "source": [
    "#### Type parameters\n",
    "`{}`"
   ]
  },
  {
   "cell_type": "code",
   "execution_count": 15,
   "metadata": {},
   "outputs": [],
   "source": [
    "struct PPixel{T} \n",
    "    x::Int64\n",
    "    y::Int64\n",
    "    color::T\n",
    "end"
   ]
  },
  {
   "cell_type": "code",
   "execution_count": 16,
   "metadata": {},
   "outputs": [
    {
     "data": {
      "text/plain": [
       "PPixel{Int64}(5, 5, 100)"
      ]
     },
     "metadata": {},
     "output_type": "display_data"
    }
   ],
   "source": [
    "PPixel{Int}(5,5,100)"
   ]
  },
  {
   "cell_type": "code",
   "execution_count": 17,
   "metadata": {},
   "outputs": [
    {
     "data": {
      "text/plain": [
       "Vector{Float64}\u001b[90m (alias for \u001b[39m\u001b[90mArray{Float64, 1}\u001b[39m\u001b[90m)\u001b[39m"
      ]
     },
     "metadata": {},
     "output_type": "display_data"
    }
   ],
   "source": [
    "typeof(Array{Float64}(undef, 100))"
   ]
  },
  {
   "cell_type": "code",
   "execution_count": 18,
   "metadata": {},
   "outputs": [
    {
     "data": {
      "text/plain": [
       "false"
      ]
     },
     "metadata": {},
     "output_type": "display_data"
    }
   ],
   "source": [
    "Array{Float64} <: Array{Float64, 100}"
   ]
  },
  {
   "cell_type": "code",
   "execution_count": 19,
   "metadata": {},
   "outputs": [
    {
     "data": {
      "text/plain": [
       "5-element Vector{Float32}:\n",
       " 1.0\n",
       " 2.0\n",
       " 3.0\n",
       " 4.0\n",
       " 5.0"
      ]
     },
     "metadata": {},
     "output_type": "display_data"
    }
   ],
   "source": [
    "[parse(Float32, string(x)) for x in 1:5]"
   ]
  },
  {
   "cell_type": "markdown",
   "metadata": {},
   "source": [
    "### Type-stability\n",
    "> The type of return value is dependent only on the types of its arguments and not the values.\n",
    "\n",
    "对于同一类输入的输出类型是一致的。"
   ]
  },
  {
   "cell_type": "code",
   "execution_count": 20,
   "metadata": {},
   "outputs": [
    {
     "data": {
      "text/plain": [
       "pos (generic function with 1 method)"
      ]
     },
     "metadata": {},
     "output_type": "display_data"
    }
   ],
   "source": [
    "function pos(x)\n",
    "    if x < 0\n",
    "        return 0;\n",
    "    else\n",
    "        return x;\n",
    "    end\n",
    "end"
   ]
  },
  {
   "cell_type": "code",
   "execution_count": 21,
   "metadata": {},
   "outputs": [
    {
     "data": {
      "text/plain": [
       "10.0"
      ]
     },
     "metadata": {},
     "output_type": "display_data"
    }
   ],
   "source": [
    "pos(10.0)"
   ]
  },
  {
   "cell_type": "code",
   "execution_count": 22,
   "metadata": {},
   "outputs": [
    {
     "data": {
      "text/plain": [
       "pos_fixed (generic function with 1 method)"
      ]
     },
     "metadata": {},
     "output_type": "display_data"
    }
   ],
   "source": [
    "function pos_fixed(x)\n",
    "    if x < 0\n",
    "        return zero(x);\n",
    "    else\n",
    "        return x;\n",
    "    end\n",
    "end"
   ]
  },
  {
   "cell_type": "code",
   "execution_count": 23,
   "metadata": {},
   "outputs": [
    {
     "data": {
      "text/plain": [
       "0.0"
      ]
     },
     "metadata": {},
     "output_type": "display_data"
    }
   ],
   "source": [
    "pos_fixed(-1.0)"
   ]
  },
  {
   "cell_type": "markdown",
   "metadata": {},
   "source": [
    "#### Identifying type stability\n",
    "- `@code_warntype`   "
   ]
  },
  {
   "cell_type": "code",
   "execution_count": 24,
   "metadata": {},
   "outputs": [
    {
     "name": "stdout",
     "output_type": "stream",
     "text": [
      "MethodInstance for pos_fixed(::Float64)\n",
      "  from pos_fixed(\u001b[90mx\u001b[39m)\u001b[90m @\u001b[39m \u001b[90mMain\u001b[39m \u001b[90m~/Documents/code/Jupyter/Julia-HPC/\u001b[39m\u001b[90m\u001b[4m02-Types.ipynb:1\u001b[24m\u001b[39m\n",
      "Arguments\n",
      "  #self#\u001b[36m::Core.Const(pos_fixed)\u001b[39m\n",
      "  x\u001b[36m::Float64\u001b[39m\n",
      "Body\u001b[36m::Float64\u001b[39m\n"
     ]
    },
    {
     "name": "stdout",
     "output_type": "stream",
     "text": [
      "\u001b[90m1 ─\u001b[39m %1 = ("
     ]
    },
    {
     "name": "stdout",
     "output_type": "stream",
     "text": [
      "x < 0)\u001b[36m::Bool\u001b[39m\n",
      "\u001b[90m└──\u001b[39m      goto #3 if not "
     ]
    },
    {
     "name": "stdout",
     "output_type": "stream",
     "text": [
      "%1\n",
      "\u001b[90m2 ─\u001b[39m %3 = Main.zero(x)\u001b[36m::Core.Const(0.0)\u001b[39m\n",
      "\u001b[90m└──\u001b[39m      return %3\n",
      "\u001b[90m3 ─\u001b[39m      return x\n",
      "\n"
     ]
    }
   ],
   "source": [
    "@code_warntype pos_fixed(2.5)"
   ]
  },
  {
   "cell_type": "code",
   "execution_count": 25,
   "metadata": {},
   "outputs": [
    {
     "name": "stdout",
     "output_type": "stream",
     "text": [
      "MethodInstance for pos(::Float64)\n",
      "  from pos(\u001b[90mx\u001b[39m)\u001b[90m @\u001b[39m \u001b[90mMain\u001b[39m \u001b[90m~/Documents/code/Jupyter/Julia-HPC/\u001b[39m\u001b[90m\u001b[4m02-Types.ipynb:1\u001b[24m\u001b[39m\n",
      "Arguments\n",
      "  #self#\u001b[36m::Core.Const(pos)\u001b[39m\n",
      "  x\u001b[36m::Float64\u001b[39m\n",
      "Body\u001b[33m\u001b[1m::Union{Float64, Int64}\u001b[22m\u001b[39m\n",
      "\u001b[90m1 ─\u001b[39m %1 = (x < 0)\u001b[36m::Bool\u001b[39m\n",
      "\u001b[90m└──\u001b[39m      goto #3 if not %1\n",
      "\u001b[90m2 ─\u001b[39m      return 0\n",
      "\u001b[90m3 ─\u001b[39m      return x\n",
      "\n"
     ]
    }
   ],
   "source": [
    "@code_warntype pos(2.5)"
   ]
  },
  {
   "cell_type": "markdown",
   "metadata": {},
   "source": [
    "#### Loop Variables"
   ]
  },
  {
   "cell_type": "code",
   "execution_count": 26,
   "metadata": {},
   "outputs": [
    {
     "data": {
      "text/plain": [
       "sumsqrtn (generic function with 1 method)"
      ]
     },
     "metadata": {},
     "output_type": "display_data"
    }
   ],
   "source": [
    "function sumsqrtn(n)\n",
    "    r = 0;\n",
    "    for i in 1:n\n",
    "        r = r + sqrt(i)\n",
    "    end\n",
    "    return r\n",
    "end"
   ]
  },
  {
   "cell_type": "code",
   "execution_count": 27,
   "metadata": {},
   "outputs": [
    {
     "name": "stdout",
     "output_type": "stream",
     "text": [
      "MethodInstance for sumsqrtn(::Int64)\n",
      "  from sumsqrtn(\u001b[90mn\u001b[39m)\u001b[90m @\u001b[39m \u001b[90mMain\u001b[39m \u001b[90m~/Documents/code/Jupyter/Julia-HPC/\u001b[39m\u001b[90m\u001b[4m02-Types.ipynb:1\u001b[24m\u001b[39m\n",
      "Arguments\n",
      "  #self#\u001b[36m::Core.Const(sumsqrtn)\u001b[39m\n",
      "  n\u001b[36m::Int64\u001b[39m\n",
      "Locals\n",
      "  @_3\u001b[33m\u001b[1m::Union{Nothing, Tuple{Int64, Int64}}\u001b[22m\u001b[39m\n",
      "  r\u001b[33m\u001b[1m::Union{Float64, Int64}\u001b[22m\u001b[39m\n",
      "  i\u001b[36m::Int64\u001b[39m\n",
      "Body\u001b[33m\u001b[1m::Union{Float64, Int64}\u001b[22m\u001b[39m\n",
      "\u001b[90m1 ─\u001b[39m       (r = 0)\n",
      "\u001b[90m│  \u001b[39m %2  = (1:n)\u001b[36m::Core.PartialStruct(UnitRange{Int64}, Any[Core.Const(1), Int64])\u001b[39m\n",
      "\u001b[90m│  \u001b[39m       (@_3 = Base.iterate(%2))\n",
      "\u001b[90m│  \u001b[39m %4  = (@_3 === nothing)\u001b[36m::Bool\u001b[39m\n",
      "\u001b[90m│  \u001b[39m %5  = Base.not_int(%4)\u001b[36m::Bool\u001b[39m\n",
      "\u001b[90m└──\u001b[39m       goto #4 if not %5\n",
      "\u001b[90m2 ┄\u001b[39m %7  = @_3\u001b[36m::Tuple{Int64, Int64}\u001b[39m\n",
      "\u001b[90m│  \u001b[39m       (i = Core.getfield(%7, 1))\n",
      "\u001b[90m│  \u001b[39m %9  = Core.getfield(%7, "
     ]
    },
    {
     "name": "stdout",
     "output_type": "stream",
     "text": [
      "2)\u001b[36m::Int64\u001b[39m\n",
      "\u001b[90m│  \u001b[39m %10 = r\u001b[33m\u001b[1m::Union{Float64, Int64}\u001b[22m\u001b[39m\n",
      "\u001b[90m│  \u001b[39m %11 = Main.sqrt(i)\u001b[36m::Float64\u001b[39m\n",
      "\u001b[90m│  \u001b[39m       (r = %10 + %11)\n",
      "\u001b[90m│  \u001b[39m       (@_3 = Base.iterate(%2, %9))\n",
      "\u001b[90m│  \u001b[39m %14 = (@_3 === nothing)\u001b[36m::Bool\u001b[39m\n",
      "\u001b[90m│  \u001b[39m %15 = Base.not_int(%14)\u001b[36m::Bool\u001b[39m\n",
      "\u001b[90m└──\u001b[39m       goto #4 if not %15\n",
      "\u001b[90m3 ─\u001b[39m       goto #2\n",
      "\u001b[90m4 ┄\u001b[39m       return r\n",
      "\n"
     ]
    }
   ],
   "source": [
    "@code_warntype sumsqrtn(5)"
   ]
  },
  {
   "cell_type": "code",
   "execution_count": 28,
   "metadata": {},
   "outputs": [
    {
     "data": {
      "text/plain": [
       "sumsqrtn_fixed (generic function with 1 method)"
      ]
     },
     "metadata": {},
     "output_type": "display_data"
    }
   ],
   "source": [
    "function sumsqrtn_fixed(n)\n",
    "    r = 0.0;\n",
    "    for i in 1:n\n",
    "        r = r + sqrt(i)\n",
    "    end\n",
    "    return r\n",
    "end"
   ]
  },
  {
   "cell_type": "code",
   "execution_count": 29,
   "metadata": {},
   "outputs": [
    {
     "name": "stdout",
     "output_type": "stream",
     "text": [
      "MethodInstance for sumsqrtn_fixed(::Int64)\n",
      "  from sumsqrtn_fixed(\u001b[90mn\u001b[39m)\u001b[90m @\u001b[39m \u001b[90mMain\u001b[39m \u001b[90m~/Documents/code/Jupyter/Julia-HPC/\u001b[39m\u001b[90m\u001b[4m02-Types.ipynb:1\u001b[24m\u001b[39m\n",
      "Arguments\n",
      "  #self#\u001b[36m::Core.Const(sumsqrtn_fixed)\u001b[39m\n",
      "  n\u001b[36m::Int64\u001b[39m\n",
      "Locals\n",
      "  @_3\u001b[33m\u001b[1m::Union{Nothing, Tuple{Int64, Int64}}\u001b[22m\u001b[39m\n",
      "  r\u001b[36m::Float64\u001b[39m\n",
      "  i\u001b[36m::Int64\u001b[39m\n",
      "Body\u001b[36m::Float64\u001b[39m\n",
      "\u001b[90m1 ─\u001b[39m       (r = 0.0)\n",
      "\u001b[90m│  \u001b[39m %2  = (1:n)\u001b[36m::Core.PartialStruct(UnitRange{Int64}, Any[Core.Const(1), Int64])\u001b[39m\n",
      "\u001b[90m│  \u001b[39m       (@_3 = Base.iterate(%2))\n",
      "\u001b[90m│  \u001b[39m %4  = (@_3 === nothing)\u001b[36m::Bool\u001b[39m\n",
      "\u001b[90m│  \u001b[39m %5  = Base.not_int(%4)\u001b[36m::Bool\u001b[39m\n",
      "\u001b[90m└──\u001b[39m       goto #4 if not %5\n",
      "\u001b[90m2 ┄\u001b[39m %7  = @_3\u001b[36m::Tuple{Int64, Int64}\u001b[39m\n",
      "\u001b[90m│  \u001b[39m       (i = Core.getfield(%7, 1))\n",
      "\u001b[90m│  \u001b[39m %9  = Core.getfield(%7, 2)\u001b[36m::Int64\u001b[39m\n",
      "\u001b[90m│  \u001b[39m %10 = r\u001b[36m::Float64\u001b[39m\n",
      "\u001b[90m│  \u001b[39m %11 = Main.sqrt(i)\u001b[36m::Float64\u001b[39m\n",
      "\u001b[90m│  \u001b[39m       (r = %10 + %11)\n",
      "\u001b[90m│  \u001b[39m       (@_3 = Base.iterate(%2, %9))\n",
      "\u001b[90m│  \u001b[39m %14 = (@_3 === nothing)\u001b[36m::Bool\u001b[39m\n",
      "\u001b[90m│  \u001b[39m %15 = Base.not_int(%14)\u001b[36m::Bool\u001b[39m\n",
      "\u001b[90m└──\u001b[39m       goto #4 if not %15\n",
      "\u001b[90m3 ─\u001b[39m       goto #2\n",
      "\u001b[90m4 ┄\u001b[39m       return r\n",
      "\n"
     ]
    }
   ],
   "source": [
    "@code_warntype sumsqrtn_fixed(5)"
   ]
  },
  {
   "cell_type": "code",
   "execution_count": 30,
   "metadata": {},
   "outputs": [
    {
     "name": "stdout",
     "output_type": "stream",
     "text": [
      "  5.634 ms (0 allocations: 0 bytes)\n"
     ]
    },
    {
     "name": "stdout",
     "output_type": "stream",
     "text": [
      "  938.291 μs (0 allocations: 0 bytes)\n"
     ]
    },
    {
     "data": {
      "text/plain": [
       "6.666671664588418e8"
      ]
     },
     "metadata": {},
     "output_type": "display_data"
    }
   ],
   "source": [
    "@btime sumsqrtn(1000_000)\n",
    "@btime sumsqrtn_fixed(1000_000)"
   ]
  },
  {
   "cell_type": "code",
   "execution_count": 31,
   "metadata": {},
   "outputs": [
    {
     "data": {
      "text/plain": [
       "simdsum_fixed (generic function with 1 method)"
      ]
     },
     "metadata": {},
     "output_type": "display_data"
    }
   ],
   "source": [
    "function simdsum(x)\n",
    "    s = 0\n",
    "    @simd for i in x\n",
    "        s += i\n",
    "    end\n",
    "    return s\n",
    "end\n",
    "function simdsum_fixed(x)\n",
    "    s = zero(eltype(x))\n",
    "    @simd for i in x\n",
    "        s += i\n",
    "    end\n",
    "    return s\n",
    "end"
   ]
  },
  {
   "cell_type": "code",
   "execution_count": 32,
   "metadata": {},
   "outputs": [],
   "source": [
    "a = rand(Float32, 10^6);"
   ]
  },
  {
   "cell_type": "code",
   "execution_count": 33,
   "metadata": {},
   "outputs": [
    {
     "name": "stdout",
     "output_type": "stream",
     "text": [
      "  936.250 μs (1 allocation: 16 bytes)\n"
     ]
    },
    {
     "data": {
      "text/plain": [
       "500093.34f0"
      ]
     },
     "metadata": {},
     "output_type": "display_data"
    }
   ],
   "source": [
    "@btime simdsum(a)"
   ]
  },
  {
   "cell_type": "code",
   "execution_count": 34,
   "metadata": {},
   "outputs": [
    {
     "name": "stdout",
     "output_type": "stream",
     "text": [
      "  116.958 μs (1 allocation: 16 bytes)\n"
     ]
    },
    {
     "data": {
      "text/plain": [
       "500081.7f0"
      ]
     },
     "metadata": {},
     "output_type": "display_data"
    }
   ],
   "source": [
    "@btime simdsum_fixed(a)"
   ]
  },
  {
   "cell_type": "markdown",
   "metadata": {},
   "source": [
    "#### Kernel methods and function barriers"
   ]
  },
  {
   "cell_type": "code",
   "execution_count": 35,
   "metadata": {},
   "outputs": [
    {
     "data": {
      "text/plain": [
       "string_zeros (generic function with 1 method)"
      ]
     },
     "metadata": {},
     "output_type": "display_data"
    }
   ],
   "source": [
    "function string_zeros(s::AbstractString)\n",
    "    n = 1000_000;\n",
    "    x = s == \"Int64\" ?\n",
    "        Vector{Int64}(undef, n) :\n",
    "        Vector{Float64}(undef, n);\n",
    "    for i in 1:length(x)\n",
    "        x[i] = 0\n",
    "    end\n",
    "    return x\n",
    "end"
   ]
  },
  {
   "cell_type": "code",
   "execution_count": 36,
   "metadata": {},
   "outputs": [
    {
     "name": "stdout",
     "output_type": "stream",
     "text": [
      "  156.542 μs (2 allocations: 7.63 MiB)\n"
     ]
    }
   ],
   "source": [
    "@btime string_zeros(\"Int64\");"
   ]
  },
  {
   "cell_type": "code",
   "execution_count": 37,
   "metadata": {},
   "outputs": [
    {
     "data": {
      "text/plain": [
       "fill_zeros (generic function with 1 method)"
      ]
     },
     "metadata": {},
     "output_type": "display_data"
    }
   ],
   "source": [
    "function string_zeros_stable(s::AbstractString)\n",
    "    n = 1000_000;\n",
    "    x = s == \"Int64\" ?\n",
    "        Vector{Int64}(undef, n) :\n",
    "        Vector{Float64}(undef, n);\n",
    "   return fill_zeros(x)\n",
    "end\n",
    "function fill_zeros(x)\n",
    "    for i in 1:length(x)\n",
    "        x[i] = 0\n",
    "    end\n",
    "    return x\n",
    "end"
   ]
  },
  {
   "cell_type": "code",
   "execution_count": 38,
   "metadata": {},
   "outputs": [
    {
     "name": "stdout",
     "output_type": "stream",
     "text": [
      "  156.750 μs (2 allocations: 7.63 MiB)\n"
     ]
    }
   ],
   "source": [
    "@btime string_zeros_stable(\"Int64\");"
   ]
  },
  {
   "cell_type": "markdown",
   "metadata": {},
   "source": [
    "### Types in storage locations\n",
    "When we defined a function, we don't need to specify the types of function arguments or local varaibles for performance reasons.\n",
    "But for things that hod data, such as arrays, dictionaries, or fields in compoite types, it's best to explicity define the type that it will hold.\n",
    "\n",
    "#### Arrays\n",
    "It's best to specify the concrete element type in array."
   ]
  },
  {
   "cell_type": "code",
   "execution_count": 39,
   "metadata": {},
   "outputs": [],
   "source": [
    "a = Int64[1,2,3,4,5,6,7,8,9,10];\n",
    "b = Number[1,2,3,4,5,6,7,8,9,10];"
   ]
  },
  {
   "cell_type": "code",
   "execution_count": 40,
   "metadata": {},
   "outputs": [
    {
     "data": {
      "text/plain": [
       "arr_sumsqr (generic function with 1 method)"
      ]
     },
     "metadata": {},
     "output_type": "display_data"
    }
   ],
   "source": [
    "function arr_sumsqr(x::Array{T}) where T <: Number\n",
    "    r = zero(T)\n",
    "    for i in 1:length(x)\n",
    "        r += x[i] ^ 2;\n",
    "    end\n",
    "    return r\n",
    "end"
   ]
  },
  {
   "cell_type": "code",
   "execution_count": 41,
   "metadata": {},
   "outputs": [
    {
     "name": "stdout",
     "output_type": "stream",
     "text": [
      "  15.907 ns (0 allocations: 0 bytes)\n"
     ]
    },
    {
     "name": "stdout",
     "output_type": "stream",
     "text": [
      "  293.893 ns (0 allocations: 0 bytes)\n"
     ]
    },
    {
     "data": {
      "text/plain": [
       "385"
      ]
     },
     "metadata": {},
     "output_type": "display_data"
    }
   ],
   "source": [
    "@btime arr_sumsqr(a)\n",
    "@btime arr_sumsqr(b)"
   ]
  },
  {
   "cell_type": "markdown",
   "metadata": {},
   "source": [
    "#### Composite types\n"
   ]
  },
  {
   "cell_type": "code",
   "execution_count": 42,
   "metadata": {},
   "outputs": [],
   "source": [
    "abstract type AbstractPoint end\n",
    "struct Point <: AbstractPoint\n",
    "    x\n",
    "    y\n",
    "end\n",
    "struct ConcretePoint <: AbstractPoint\n",
    "    x::Float64\n",
    "    y::Float64\n",
    "end"
   ]
  },
  {
   "cell_type": "code",
   "execution_count": 43,
   "metadata": {},
   "outputs": [
    {
     "data": {
      "text/plain": [
       "sumsqr_points (generic function with 1 method)"
      ]
     },
     "metadata": {},
     "output_type": "display_data"
    }
   ],
   "source": [
    "function sumsqr_points(a::Vector{T}) where T <: AbstractPoint\n",
    "    r = 0.0\n",
    "    for i in 1:length(a)\n",
    "        r += a[i].x ^ 2 + a[i].y ^ 2\n",
    "    end\n",
    "    return r\n",
    "end"
   ]
  },
  {
   "cell_type": "code",
   "execution_count": 44,
   "metadata": {},
   "outputs": [
    {
     "data": {
      "text/plain": [
       "1000000-element Vector{ConcretePoint}:\n",
       " ConcretePoint(0.7488135488738273, 0.9440750619810065)\n",
       " ConcretePoint(0.6386959245454781, 0.48790150998367776)\n",
       " ConcretePoint(0.6110170929244921, 0.5732682050506429)\n",
       " ConcretePoint(0.28705578820707756, 0.573028131381507)\n",
       " ConcretePoint(0.8222529158405573, 0.7126069946738048)\n",
       " ConcretePoint(0.943703226825745, 0.08956147867220876)\n",
       " ConcretePoint(0.6302598563872144, 0.6470839042166093)\n",
       " ConcretePoint(0.36939509092434686, 0.33774023604149317)\n",
       " ConcretePoint(0.3188034773931545, 0.03148024203382216)\n",
       " ConcretePoint(0.7527340150995075, 0.6088992954811796)\n",
       " ⋮\n",
       " ConcretePoint(0.8306959675816175, 0.40679020130673627)\n",
       " ConcretePoint(0.26095235825615315, 0.22152117775111646)\n",
       " ConcretePoint(0.7617301725510937, 0.7693393008469606)\n",
       " ConcretePoint(0.02009699287170963, 0.5849522611591685)\n",
       " ConcretePoint(0.356930287428041, 0.8986493397100849)\n",
       " ConcretePoint(0.3811883766614109, 0.4089061714580877)\n",
       " ConcretePoint(0.807879885489801, 0.8506530147339302)\n",
       " ConcretePoint(0.4354501997497564, 0.44673827635966645)\n",
       " ConcretePoint(0.007336691971994158, 0.7872887637457681)"
      ]
     },
     "metadata": {},
     "output_type": "display_data"
    }
   ],
   "source": [
    "p_array = [Point(rand(), rand()) for i in 1:1000_000]\n",
    "cp_array = [ConcretePoint(rand(), rand()) for i in 1:1000_000]"
   ]
  },
  {
   "cell_type": "code",
   "execution_count": 45,
   "metadata": {},
   "outputs": [
    {
     "name": "stdout",
     "output_type": "stream",
     "text": [
      "  59.772 ms (4000000 allocations: 61.04 MiB)\n"
     ]
    },
    {
     "name": "stdout",
     "output_type": "stream",
     "text": [
      "  939.875 μs (1 allocation: 16 bytes)\n"
     ]
    },
    {
     "data": {
      "text/plain": [
       "666535.0256129247"
      ]
     },
     "metadata": {},
     "output_type": "display_data"
    }
   ],
   "source": [
    "@btime sumsqr_points(p_array)\n",
    "@btime sumsqr_points(cp_array)"
   ]
  },
  {
   "cell_type": "markdown",
   "metadata": {},
   "source": [
    "#### Parametric composite types\n",
    "Make the type more flexible"
   ]
  },
  {
   "cell_type": "code",
   "execution_count": 46,
   "metadata": {},
   "outputs": [],
   "source": [
    "struct PointWithAbstract <: AbstractPoint\n",
    "    x::AbstractFloat\n",
    "    y::AbstractFloat\n",
    "end"
   ]
  },
  {
   "cell_type": "code",
   "execution_count": 47,
   "metadata": {},
   "outputs": [],
   "source": [
    "struct ParametricPoint{T <: AbstractFloat} <: AbstractPoint\n",
    "    x::T\n",
    "    y::T\n",
    "end"
   ]
  },
  {
   "cell_type": "code",
   "execution_count": 48,
   "metadata": {},
   "outputs": [
    {
     "data": {
      "text/plain": [
       "1000000-element Vector{ParametricPoint{Float64}}:\n",
       " ParametricPoint{Float64}(0.42948743381469323, 0.3516480477781674)\n",
       " ParametricPoint{Float64}(0.29293337979851064, 0.1725843479711937)\n",
       " ParametricPoint{Float64}(0.9832895725780079, 0.293958196156179)\n",
       " ParametricPoint{Float64}(0.23099118166862698, 0.09243460326461761)\n",
       " ParametricPoint{Float64}(0.23601990746538282, 0.1176331315080269)\n",
       " ParametricPoint{Float64}(0.0543466965383147, 0.2965429581507232)\n",
       " ParametricPoint{Float64}(0.338396083997902, 0.03774249284168363)\n",
       " ParametricPoint{Float64}(0.3791836659910671, 0.6314048462053773)\n",
       " ParametricPoint{Float64}(0.6848602824707046, 0.3548123421623587)\n",
       " ParametricPoint{Float64}(0.3386035225801155, 0.8655307412119253)\n",
       " ⋮\n",
       " ParametricPoint{Float64}(0.44274597493266754, 0.03832816205761569)\n",
       " ParametricPoint{Float64}(0.899336251754205, 0.3137738058571269)\n",
       " ParametricPoint{Float64}(0.30079049934610524, 0.13995268754342927)\n",
       " ParametricPoint{Float64}(0.14572336473275693, 0.7617427611753463)\n",
       " ParametricPoint{Float64}(0.6787183782213364, 0.46686521557004546)\n",
       " ParametricPoint{Float64}(0.34245530616579467, 0.9717256133573818)\n",
       " ParametricPoint{Float64}(0.4068287135273765, 0.853443143639868)\n",
       " ParametricPoint{Float64}(0.4588857485420549, 0.3758884871857121)\n",
       " ParametricPoint{Float64}(0.8126917583585244, 0.10846779834749742)"
      ]
     },
     "metadata": {},
     "output_type": "display_data"
    }
   ],
   "source": [
    "pwa_array = [PointWithAbstract(rand(), rand()) for i in 1:1000_000]\n",
    "pp_array = [ParametricPoint(rand(), rand()) for i in 1:1000_000]"
   ]
  },
  {
   "cell_type": "code",
   "execution_count": 49,
   "metadata": {},
   "outputs": [
    {
     "name": "stdout",
     "output_type": "stream",
     "text": [
      "  60.947 ms (4000000 allocations: 61.04 MiB)\n"
     ]
    },
    {
     "name": "stdout",
     "output_type": "stream",
     "text": [
      "  942.833 μs (1 allocation: 16 bytes)\n"
     ]
    },
    {
     "data": {
      "text/plain": [
       "665918.312565412"
      ]
     },
     "metadata": {},
     "output_type": "display_data"
    }
   ],
   "source": [
    "@btime sumsqr_points(pwa_array)\n",
    "@btime sumsqr_points(pp_array)"
   ]
  }
 ],
 "metadata": {
  "kernelspec": {
   "display_name": "Julia 1.10.0",
   "language": "julia",
   "name": "julia-1.10"
  },
  "language_info": {
   "file_extension": ".jl",
   "mimetype": "application/julia",
   "name": "julia",
   "version": "1.10.0"
  }
 },
 "nbformat": 4,
 "nbformat_minor": 2
}

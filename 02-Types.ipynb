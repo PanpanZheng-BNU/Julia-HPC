{
 "cells": [
  {
   "cell_type": "markdown",
   "metadata": {},
   "source": [
    "## C02 Types, Type Inference, and Stability\n",
    "### Julia Type System\n",
    "#### Using types\n",
    "`::symbol`"
   ]
  },
  {
   "cell_type": "code",
   "execution_count": 1,
   "metadata": {},
   "outputs": [],
   "source": [
    "using BenchmarkTools"
   ]
  },
  {
   "cell_type": "code",
   "execution_count": 2,
   "metadata": {},
   "outputs": [
    {
     "data": {
      "text/plain": [
       "addme (generic function with 1 method)"
      ]
     },
     "metadata": {},
     "output_type": "display_data"
    }
   ],
   "source": [
    "iam(x::Integer) = \"an integer\"\n",
    "iam(x::String) = \"a string\"\n",
    "\n",
    "function addme(a,b)\n",
    "    x::Int64 = 2;\n",
    "    y = (a+b) /x\n",
    "    return y\n",
    "end"
   ]
  },
  {
   "cell_type": "code",
   "execution_count": 3,
   "metadata": {},
   "outputs": [
    {
     "data": {
      "text/plain": [
       "\"an integer\""
      ]
     },
     "metadata": {},
     "output_type": "display_data"
    }
   ],
   "source": [
    "iam(1)"
   ]
  },
  {
   "cell_type": "code",
   "execution_count": 4,
   "metadata": {},
   "outputs": [
    {
     "data": {
      "text/plain": [
       "\"a string\""
      ]
     },
     "metadata": {},
     "output_type": "display_data"
    }
   ],
   "source": [
    "iam(\"Hello\")"
   ]
  },
  {
   "cell_type": "code",
   "execution_count": 5,
   "metadata": {},
   "outputs": [
    {
     "ename": "MethodError",
     "evalue": "MethodError: no method matching iam(::Float64)\n\nClosest candidates are:\n  iam(!Matched::String)\n   @ Main ~/code/Julia-HPC/02-Types.ipynb:2\n  iam(!Matched::Integer)\n   @ Main ~/code/Julia-HPC/02-Types.ipynb:1\n",
     "output_type": "error",
     "traceback": [
      "MethodError: no method matching iam(::Float64)\n",
      "\n",
      "Closest candidates are:\n",
      "  iam(!Matched::String)\n",
      "   @ Main ~/code/Julia-HPC/02-Types.ipynb:2\n",
      "  iam(!Matched::Integer)\n",
      "   @ Main ~/code/Julia-HPC/02-Types.ipynb:1\n",
      "\n",
      "\n",
      "Stacktrace:\n",
      " [1] top-level scope\n",
      "   @ ~/code/Julia-HPC/02-Types.ipynb:1"
     ]
    }
   ],
   "source": [
    "iam(1.0)"
   ]
  },
  {
   "cell_type": "markdown",
   "metadata": {},
   "source": [
    "#### Multidispatch\n",
    "- Dispatch: dispatch is the process of selecting a function to be executed **at runtime**."
   ]
  },
  {
   "cell_type": "code",
   "execution_count": 6,
   "metadata": {},
   "outputs": [
    {
     "data": {
      "text/plain": [
       "sumsqr (generic function with 1 method)"
      ]
     },
     "metadata": {},
     "output_type": "display_data"
    }
   ],
   "source": [
    "sumsqr(x, y) = x^2 + y^2"
   ]
  },
  {
   "cell_type": "code",
   "execution_count": 7,
   "metadata": {},
   "outputs": [
    {
     "data": {
      "text/plain": [
       "5.25 + 4.0im"
      ]
     },
     "metadata": {},
     "output_type": "display_data"
    }
   ],
   "source": [
    "sumsqr(1.5, 2 + im)"
   ]
  },
  {
   "cell_type": "markdown",
   "metadata": {},
   "source": [
    "### Abstract types\n",
    "- **Abstract types** can'have any instantiated values, fileds. can only be the node of the type hierarchy, not its leaves. They represent sets of related types.\n",
    "    ```julia\n",
    "    abstract type Number ; end\n",
    "    abstract type Real     <: Number  ; end\n",
    "    abstract type FloatingPoint <: Real  ; end\n",
    "    abstract type Integer  <: Real  ; end\n",
    "    abstract type Signed   <: Integer  ; end\n",
    "    abstract type Unsigned <: Integer ; end\n",
    "    ```\n",
    "\n",
    "#### Julia's type hierarchy\n",
    "<img src=\"https://new-pic-zpp.oss-cn-guangzhou.aliyuncs.com/pic/202401151305571.png\" width=450/>\n",
    "\n",
    "- `Union{ }` type\n",
    "- `Nothing` type\n",
    "\n",
    "#### Composite and immutable types\n",
    "- `struct end`\n",
    "- `mutable struct end`"
   ]
  },
  {
   "cell_type": "code",
   "execution_count": 8,
   "metadata": {},
   "outputs": [],
   "source": [
    "struct Pixel\n",
    "    x::Int64\n",
    "    y::Int64\n",
    "    color::Int64\n",
    "end"
   ]
  },
  {
   "cell_type": "code",
   "execution_count": 9,
   "metadata": {},
   "outputs": [
    {
     "data": {
      "text/plain": [
       "Pixel(5, 5, 100)"
      ]
     },
     "metadata": {},
     "output_type": "display_data"
    }
   ],
   "source": [
    "p = Pixel(5,5,100)"
   ]
  },
  {
   "cell_type": "code",
   "execution_count": 10,
   "metadata": {},
   "outputs": [
    {
     "ename": "ErrorException",
     "evalue": "setfield!: immutable struct of type Pixel cannot be changed",
     "output_type": "error",
     "traceback": [
      "setfield!: immutable struct of type Pixel cannot be changed\n",
      "\n",
      "Stacktrace:\n",
      " [1] setproperty!(x::Pixel, f::Symbol, v::Int64)\n",
      "   @ Base ./Base.jl:41\n",
      " [2] top-level scope\n",
      "   @ ~/code/Julia-HPC/02-Types.ipynb:1"
     ]
    }
   ],
   "source": [
    "p.x = 10;"
   ]
  },
  {
   "cell_type": "code",
   "execution_count": 11,
   "metadata": {},
   "outputs": [
    {
     "data": {
      "text/plain": [
       "5"
      ]
     },
     "metadata": {},
     "output_type": "display_data"
    }
   ],
   "source": [
    "p.x"
   ]
  },
  {
   "cell_type": "code",
   "execution_count": 12,
   "metadata": {},
   "outputs": [],
   "source": [
    "mutable struct MPixel\n",
    "    x::Int64\n",
    "    y::Int64\n",
    "    color::Int64\n",
    "end"
   ]
  },
  {
   "cell_type": "code",
   "execution_count": 13,
   "metadata": {},
   "outputs": [
    {
     "data": {
      "text/plain": [
       "10"
      ]
     },
     "metadata": {},
     "output_type": "display_data"
    }
   ],
   "source": [
    "p = MPixel(5,5,100)\n",
    "p.x = 10"
   ]
  },
  {
   "cell_type": "code",
   "execution_count": 14,
   "metadata": {},
   "outputs": [
    {
     "data": {
      "text/plain": [
       "10"
      ]
     },
     "metadata": {},
     "output_type": "display_data"
    }
   ],
   "source": [
    "p.x"
   ]
  },
  {
   "cell_type": "markdown",
   "metadata": {},
   "source": [
    "#### Type parameters\n",
    "`{}`"
   ]
  },
  {
   "cell_type": "code",
   "execution_count": 15,
   "metadata": {},
   "outputs": [],
   "source": [
    "struct PPixel{T} \n",
    "    x::Int64\n",
    "    y::Int64\n",
    "    color::T\n",
    "end"
   ]
  },
  {
   "cell_type": "code",
   "execution_count": 16,
   "metadata": {},
   "outputs": [
    {
     "data": {
      "text/plain": [
       "PPixel{Int64}(5, 5, 100)"
      ]
     },
     "metadata": {},
     "output_type": "display_data"
    }
   ],
   "source": [
    "PPixel{Int}(5,5,100)"
   ]
  },
  {
   "cell_type": "code",
   "execution_count": 17,
   "metadata": {},
   "outputs": [
    {
     "data": {
      "text/plain": [
       "Vector{Float64}\u001b[90m (alias for \u001b[39m\u001b[90mArray{Float64, 1}\u001b[39m\u001b[90m)\u001b[39m"
      ]
     },
     "metadata": {},
     "output_type": "display_data"
    }
   ],
   "source": [
    "typeof(Array{Float64}(undef, 100))"
   ]
  },
  {
   "cell_type": "code",
   "execution_count": 18,
   "metadata": {},
   "outputs": [
    {
     "data": {
      "text/plain": [
       "false"
      ]
     },
     "metadata": {},
     "output_type": "display_data"
    }
   ],
   "source": [
    "Array{Float64} <: Array{Float64, 100}"
   ]
  },
  {
   "cell_type": "code",
   "execution_count": 19,
   "metadata": {},
   "outputs": [
    {
     "data": {
      "text/plain": [
       "5-element Vector{Float32}:\n",
       " 1.0\n",
       " 2.0\n",
       " 3.0\n",
       " 4.0\n",
       " 5.0"
      ]
     },
     "metadata": {},
     "output_type": "display_data"
    }
   ],
   "source": [
    "[parse(Float32, string(x)) for x in 1:5]"
   ]
  },
  {
   "cell_type": "markdown",
   "metadata": {},
   "source": [
    "### Type-stability\n",
    "> The type of return value is dependent only on the types of its arguments and not the values.\n",
    "\n",
    "对于同一类输入的输出类型是一致的。"
   ]
  },
  {
   "cell_type": "code",
   "execution_count": 20,
   "metadata": {},
   "outputs": [
    {
     "data": {
      "text/plain": [
       "pos (generic function with 1 method)"
      ]
     },
     "metadata": {},
     "output_type": "display_data"
    }
   ],
   "source": [
    "function pos(x)\n",
    "    if x < 0\n",
    "        return 0;\n",
    "    else\n",
    "        return x;\n",
    "    end\n",
    "end"
   ]
  },
  {
   "cell_type": "code",
   "execution_count": 21,
   "metadata": {},
   "outputs": [
    {
     "data": {
      "text/plain": [
       "10.0"
      ]
     },
     "metadata": {},
     "output_type": "display_data"
    }
   ],
   "source": [
    "pos(10.0)"
   ]
  },
  {
   "cell_type": "code",
   "execution_count": 22,
   "metadata": {},
   "outputs": [
    {
     "data": {
      "text/plain": [
       "pos_fixed (generic function with 1 method)"
      ]
     },
     "metadata": {},
     "output_type": "display_data"
    }
   ],
   "source": [
    "function pos_fixed(x)\n",
    "    if x < 0\n",
    "        return zero(x);\n",
    "    else\n",
    "        return x;\n",
    "    end\n",
    "end"
   ]
  },
  {
   "cell_type": "code",
   "execution_count": 23,
   "metadata": {},
   "outputs": [
    {
     "data": {
      "text/plain": [
       "0.0"
      ]
     },
     "metadata": {},
     "output_type": "display_data"
    }
   ],
   "source": [
    "pos_fixed(-1.0)"
   ]
  },
  {
   "cell_type": "markdown",
   "metadata": {},
   "source": [
    "#### Identifying type stability\n",
    "- `@code_warntype`   "
   ]
  },
  {
   "cell_type": "code",
   "execution_count": 24,
   "metadata": {},
   "outputs": [
    {
     "name": "stdout",
     "output_type": "stream",
     "text": [
      "MethodInstance for pos_fixed(::Float64)\n",
      "  from pos_fixed(\u001b[90mx\u001b[39m)\u001b[90m @\u001b[39m \u001b[90mMain\u001b[39m \u001b[90m~/code/Julia-HPC/\u001b[39m\u001b[90m\u001b[4m02-Types.ipynb:1\u001b[24m\u001b[39m\n",
      "Arguments\n",
      "  #self#\u001b[36m::Core.Const(pos_fixed)\u001b[39m"
     ]
    },
    {
     "name": "stdout",
     "output_type": "stream",
     "text": [
      "\n",
      "  x\u001b[36m::Float64\u001b[39m\n",
      "Body\u001b[36m::Float64\u001b[39m\n"
     ]
    },
    {
     "name": "stdout",
     "output_type": "stream",
     "text": [
      "\u001b[90m1 ─\u001b[39m %1 = ("
     ]
    },
    {
     "name": "stdout",
     "output_type": "stream",
     "text": [
      "x < 0)"
     ]
    },
    {
     "name": "stdout",
     "output_type": "stream",
     "text": [
      "\u001b[36m::Bool\u001b[39m\n",
      "\u001b[90m└──\u001b[39m      goto #3 if not %1\n",
      "\u001b[90m2 ─\u001b[39m %3 = Main.zero(x)\u001b[36m::Core.Const(0.0)\u001b[39m\n",
      "\u001b[90m└──\u001b[39m      return %3\n",
      "\u001b[90m3 ─\u001b[39m      return x\n",
      "\n"
     ]
    }
   ],
   "source": [
    "@code_warntype pos_fixed(2.5)"
   ]
  },
  {
   "cell_type": "code",
   "execution_count": 25,
   "metadata": {},
   "outputs": [
    {
     "name": "stdout",
     "output_type": "stream",
     "text": [
      "MethodInstance for pos(::Float64)\n",
      "  from pos(\u001b[90mx\u001b[39m)\u001b[90m @\u001b[39m \u001b[90mMain\u001b[39m \u001b[90m~/code/Julia-HPC/\u001b[39m\u001b[90m\u001b[4m02-Types.ipynb:1\u001b[24m\u001b[39m\n",
      "Arguments\n",
      "  #self#\u001b[36m::Core.Const(pos)\u001b[39m\n",
      "  x\u001b[36m::Float64\u001b[39m\n",
      "Body\u001b[33m\u001b[1m::Union{Float64, Int64}\u001b[22m\u001b[39m\n",
      "\u001b[90m1 ─\u001b[39m %1 = (x < 0)\u001b[36m::Bool\u001b[39m\n",
      "\u001b[90m└──\u001b[39m      goto #3 if not %1\n",
      "\u001b[90m2 ─\u001b[39m      return 0\n",
      "\u001b[90m3 ─\u001b[39m      return x\n",
      "\n"
     ]
    }
   ],
   "source": [
    "@code_warntype pos(2.5)"
   ]
  },
  {
   "cell_type": "markdown",
   "metadata": {},
   "source": [
    "#### Loop Variables"
   ]
  },
  {
   "cell_type": "code",
   "execution_count": 26,
   "metadata": {},
   "outputs": [
    {
     "data": {
      "text/plain": [
       "sumsqrtn (generic function with 1 method)"
      ]
     },
     "metadata": {},
     "output_type": "display_data"
    }
   ],
   "source": [
    "function sumsqrtn(n)\n",
    "    r = 0;\n",
    "    for i in 1:n\n",
    "        r = r + sqrt(i)\n",
    "    end\n",
    "    return r\n",
    "end"
   ]
  },
  {
   "cell_type": "code",
   "execution_count": 27,
   "metadata": {},
   "outputs": [
    {
     "name": "stdout",
     "output_type": "stream",
     "text": [
      "MethodInstance for sumsqrtn(::Int64)\n",
      "  from sumsqrtn(\u001b[90mn\u001b[39m)\u001b[90m @\u001b[39m \u001b[90mMain\u001b[39m \u001b[90m~/code/Julia-HPC/\u001b[39m\u001b[90m\u001b[4m02-Types.ipynb:1\u001b[24m\u001b[39m\n",
      "Arguments\n",
      "  #self#\u001b[36m::Core.Const(sumsqrtn)\u001b[39m\n",
      "  n\u001b[36m::Int64\u001b[39m\n",
      "Locals\n",
      "  @_3\u001b[33m\u001b[1m::Union{Nothing, Tuple{Int64, Int64}}\u001b[22m\u001b[39m\n",
      "  r\u001b[33m\u001b[1m::Union{Float64, Int64}\u001b[22m\u001b[39m\n",
      "  i\u001b[36m::Int64\u001b[39m\n",
      "Body\u001b[33m\u001b[1m::Union{Float64, Int64}\u001b[22m\u001b[39m\n",
      "\u001b[90m1 ─\u001b[39m       (r = 0)\n",
      "\u001b[90m│  \u001b[39m %2  = (1:n)"
     ]
    },
    {
     "name": "stdout",
     "output_type": "stream",
     "text": [
      "\u001b[36m::Core.PartialStruct(UnitRange{Int64}, Any[Core.Const(1), Int64])\u001b[39m\n",
      "\u001b[90m│  \u001b[39m       (@_3 = Base.iterate(%2))\n",
      "\u001b[90m│  \u001b[39m %4  = (@_3 === nothing)\u001b[36m::Bool\u001b[39m\n",
      "\u001b[90m│  \u001b[39m %5  = Base.not_int(%4)\u001b[36m::Bool\u001b[39m\n",
      "\u001b[90m└──\u001b[39m       goto #4 if not %5\n",
      "\u001b[90m2 ┄\u001b[39m %7  = @_3\u001b[36m::Tuple{Int64, Int64}\u001b[39m\n",
      "\u001b[90m│  \u001b[39m       (i = Core.getfield(%7, 1))\n",
      "\u001b[90m│  \u001b[39m %9  = Core.getfield(%7, 2)\u001b[36m::Int64\u001b[39m\n",
      "\u001b[90m│  \u001b[39m %10 = r\u001b[33m\u001b[1m::Union{Float64, Int64}\u001b[22m\u001b[39m\n",
      "\u001b[90m│  \u001b[39m %11 = Main.sqrt(i)\u001b[36m::Float64\u001b[39m\n",
      "\u001b[90m│  \u001b[39m       (r = %10 + %11)\n",
      "\u001b[90m│  \u001b[39m       (@_3 = Base.iterate(%2, %9))\n",
      "\u001b[90m│  \u001b[39m %14 = (@_3 === nothing)\u001b[36m::Bool\u001b[39m\n",
      "\u001b[90m│  \u001b[39m %15 = Base.not_int(%14)\u001b[36m::Bool\u001b[39m\n",
      "\u001b[90m└──\u001b[39m       goto #4 if not %15\n",
      "\u001b[90m3 ─\u001b[39m       goto #2\n",
      "\u001b[90m4 ┄\u001b[39m       return r\n",
      "\n"
     ]
    }
   ],
   "source": [
    "@code_warntype sumsqrtn(5)"
   ]
  },
  {
   "cell_type": "code",
   "execution_count": 28,
   "metadata": {},
   "outputs": [
    {
     "data": {
      "text/plain": [
       "sumsqrtn_fixed (generic function with 1 method)"
      ]
     },
     "metadata": {},
     "output_type": "display_data"
    }
   ],
   "source": [
    "function sumsqrtn_fixed(n)\n",
    "    r = 0.0;\n",
    "    for i in 1:n\n",
    "        r = r + sqrt(i)\n",
    "    end\n",
    "    return r\n",
    "end"
   ]
  },
  {
   "cell_type": "code",
   "execution_count": 29,
   "metadata": {},
   "outputs": [
    {
     "name": "stdout",
     "output_type": "stream",
     "text": [
      "MethodInstance for sumsqrtn_fixed(::Int64)\n",
      "  from sumsqrtn_fixed(\u001b[90mn\u001b[39m)\u001b[90m @\u001b[39m \u001b[90mMain\u001b[39m \u001b[90m~/code/Julia-HPC/\u001b[39m\u001b[90m\u001b[4m02-Types.ipynb:1\u001b[24m\u001b[39m\n",
      "Arguments\n",
      "  #self#\u001b[36m::Core.Const(sumsqrtn_fixed)\u001b[39m\n",
      "  n\u001b[36m::Int64\u001b[39m\n",
      "Locals\n",
      "  @_3\u001b[33m\u001b[1m::Union{Nothing, Tuple{Int64, Int64}}\u001b[22m\u001b[39m\n",
      "  r\u001b[36m::Float64\u001b[39m\n",
      "  i\u001b[36m::Int64\u001b[39m\n",
      "Body\u001b[36m::Float64\u001b[39m\n",
      "\u001b[90m1 ─\u001b[39m       (r = 0.0"
     ]
    },
    {
     "name": "stdout",
     "output_type": "stream",
     "text": [
      ")\n",
      "\u001b[90m│  \u001b[39m %2  = (1:n)\u001b[36m::Core.PartialStruct(UnitRange{Int64}, Any[Core.Const(1), Int64])\u001b[39m\n",
      "\u001b[90m│  \u001b[39m       (@_3 = Base.iterate(%2))\n",
      "\u001b[90m│  \u001b[39m %4  = (@_3 === nothing)\u001b[36m::Bool\u001b[39m\n",
      "\u001b[90m│  \u001b[39m %5  = Base.not_int(%4)\u001b[36m::Bool\u001b[39m\n",
      "\u001b[90m└──\u001b[39m       goto #4 if not %5\n",
      "\u001b[90m2 ┄\u001b[39m %7  = @_3\u001b[36m::Tuple{Int64, Int64}\u001b[39m\n",
      "\u001b[90m│  \u001b[39m       (i = Core.getfield(%7, 1))\n",
      "\u001b[90m│  \u001b[39m %9  = Core.getfield(%7, 2)\u001b[36m::Int64\u001b[39m\n",
      "\u001b[90m│  \u001b[39m %10 = r\u001b[36m::Float64\u001b[39m\n",
      "\u001b[90m│  \u001b[39m %11 = Main.sqrt(i)\u001b[36m::Float64\u001b[39m\n",
      "\u001b[90m│  \u001b[39m       (r = %10 + %11)\n",
      "\u001b[90m│  \u001b[39m       (@_3 = Base.iterate(%2, %9))\n",
      "\u001b[90m│  \u001b[39m %14 = (@_3 === nothing)\u001b[36m::Bool\u001b[39m\n",
      "\u001b[90m│  \u001b[39m %15 = Base.not_int(%14)\u001b[36m::Bool\u001b[39m\n",
      "\u001b[90m└──\u001b[39m       goto #4 if not %15\n",
      "\u001b[90m3 ─\u001b[39m       goto #2\n",
      "\u001b[90m4 ┄\u001b[39m       return r\n",
      "\n"
     ]
    }
   ],
   "source": [
    "@code_warntype sumsqrtn_fixed(5)"
   ]
  },
  {
   "cell_type": "code",
   "execution_count": 30,
   "metadata": {},
   "outputs": [
    {
     "name": "stdout",
     "output_type": "stream",
     "text": [
      "  2.233 ms (0 allocations: 0 bytes)\n"
     ]
    },
    {
     "name": "stdout",
     "output_type": "stream",
     "text": [
      "  1.879 ms (0 allocations: 0 bytes)\n"
     ]
    },
    {
     "data": {
      "text/plain": [
       "6.666671664588418e8"
      ]
     },
     "metadata": {},
     "output_type": "display_data"
    }
   ],
   "source": [
    "@btime sumsqrtn(1000_000)\n",
    "@btime sumsqrtn_fixed(1000_000)"
   ]
  },
  {
   "cell_type": "code",
   "execution_count": 31,
   "metadata": {},
   "outputs": [
    {
     "data": {
      "text/plain": [
       "simdsum_fixed (generic function with 1 method)"
      ]
     },
     "metadata": {},
     "output_type": "display_data"
    }
   ],
   "source": [
    "function simdsum(x)\n",
    "    s = 0\n",
    "    @simd for i in x\n",
    "        s += i\n",
    "    end\n",
    "    return s\n",
    "end\n",
    "function simdsum_fixed(x)\n",
    "    s = zero(eltype(x))\n",
    "    @simd for i in x\n",
    "        s += i\n",
    "    end\n",
    "    return s\n",
    "end"
   ]
  },
  {
   "cell_type": "code",
   "execution_count": 32,
   "metadata": {},
   "outputs": [],
   "source": [
    "a = rand(Float32, 10^6);"
   ]
  },
  {
   "cell_type": "code",
   "execution_count": 33,
   "metadata": {},
   "outputs": [
    {
     "name": "stdout",
     "output_type": "stream",
     "text": [
      "  626.468 μs (1 allocation: 16 bytes)\n"
     ]
    },
    {
     "data": {
      "text/plain": [
       "500083.78f0"
      ]
     },
     "metadata": {},
     "output_type": "display_data"
    }
   ],
   "source": [
    "@btime simdsum(a)"
   ]
  },
  {
   "cell_type": "code",
   "execution_count": 34,
   "metadata": {},
   "outputs": [
    {
     "name": "stdout",
     "output_type": "stream",
     "text": [
      "  73.775 μs (1 allocation: 16 bytes)\n"
     ]
    },
    {
     "data": {
      "text/plain": [
       "500086.2f0"
      ]
     },
     "metadata": {},
     "output_type": "display_data"
    }
   ],
   "source": [
    "@btime simdsum_fixed(a)"
   ]
  },
  {
   "cell_type": "markdown",
   "metadata": {},
   "source": [
    "#### Kernel methods and function barriers"
   ]
  },
  {
   "cell_type": "code",
   "execution_count": 35,
   "metadata": {},
   "outputs": [
    {
     "data": {
      "text/plain": [
       "string_zeros (generic function with 1 method)"
      ]
     },
     "metadata": {},
     "output_type": "display_data"
    }
   ],
   "source": [
    "function string_zeros(s::AbstractString)\n",
    "    n = 1000_000;\n",
    "    x = s == \"Int64\" ?\n",
    "        Vector{Int64}(undef, n) :\n",
    "        Vector{Float64}(undef, n);\n",
    "    for i in 1:length(x)\n",
    "        x[i] = 0\n",
    "    end\n",
    "    return x\n",
    "end"
   ]
  },
  {
   "cell_type": "code",
   "execution_count": 36,
   "metadata": {},
   "outputs": [
    {
     "name": "stdout",
     "output_type": "stream",
     "text": [
      "  304.971 μs (2 allocations: 7.63 MiB)\n"
     ]
    }
   ],
   "source": [
    "@btime string_zeros(\"Int64\");"
   ]
  },
  {
   "cell_type": "code",
   "execution_count": 37,
   "metadata": {},
   "outputs": [
    {
     "data": {
      "text/plain": [
       "fill_zeros (generic function with 1 method)"
      ]
     },
     "metadata": {},
     "output_type": "display_data"
    }
   ],
   "source": [
    "function string_zeros_stable(s::AbstractString)\n",
    "    n = 1000_000;\n",
    "    x = s == \"Int64\" ?\n",
    "        Vector{Int64}(undef, n) :\n",
    "        Vector{Float64}(undef, n);\n",
    "   return fill_zeros(x)\n",
    "end\n",
    "function fill_zeros(x)\n",
    "    for i in 1:length(x)\n",
    "        x[i] = 0\n",
    "    end\n",
    "    return x\n",
    "end"
   ]
  },
  {
   "cell_type": "code",
   "execution_count": 38,
   "metadata": {},
   "outputs": [
    {
     "name": "stdout",
     "output_type": "stream",
     "text": [
      "  417.187 μs (2 allocations: 7.63 MiB)\n"
     ]
    }
   ],
   "source": [
    "@btime string_zeros_stable(\"Int64\");"
   ]
  },
  {
   "cell_type": "markdown",
   "metadata": {},
   "source": [
    "### Types in storage locations\n",
    "When we defined a function, we don't need to specify the types of function arguments or local varaibles for performance reasons.\n",
    "But for things that hod data, such as arrays, dictionaries, or fields in compoite types, it's best to explicity define the type that it will hold.\n",
    "\n",
    "#### Arrays\n",
    "It's best to specify the concrete element type in array."
   ]
  },
  {
   "cell_type": "code",
   "execution_count": 39,
   "metadata": {},
   "outputs": [],
   "source": [
    "a = Int64[1,2,3,4,5,6,7,8,9,10];\n",
    "b = Number[1,2,3,4,5,6,7,8,9,10];"
   ]
  },
  {
   "cell_type": "code",
   "execution_count": 40,
   "metadata": {},
   "outputs": [
    {
     "data": {
      "text/plain": [
       "arr_sumsqr (generic function with 1 method)"
      ]
     },
     "metadata": {},
     "output_type": "display_data"
    }
   ],
   "source": [
    "function arr_sumsqr(x::Array{T}) where T <: Number\n",
    "    r = zero(T)\n",
    "    for i in 1:length(x)\n",
    "        r += x[i] ^ 2;\n",
    "    end\n",
    "    return r\n",
    "end"
   ]
  },
  {
   "cell_type": "code",
   "execution_count": 41,
   "metadata": {},
   "outputs": [
    {
     "name": "stdout",
     "output_type": "stream",
     "text": [
      "  15.940 ns (0 allocations: 0 bytes)\n"
     ]
    },
    {
     "name": "stdout",
     "output_type": "stream",
     "text": [
      "  278.198 ns (0 allocations: 0 bytes)\n"
     ]
    },
    {
     "data": {
      "text/plain": [
       "385"
      ]
     },
     "metadata": {},
     "output_type": "display_data"
    }
   ],
   "source": [
    "@btime arr_sumsqr(a)\n",
    "@btime arr_sumsqr(b)"
   ]
  },
  {
   "cell_type": "markdown",
   "metadata": {},
   "source": [
    "#### Composite types\n"
   ]
  },
  {
   "cell_type": "code",
   "execution_count": 42,
   "metadata": {},
   "outputs": [],
   "source": [
    "abstract type AbstractPoint end\n",
    "struct Point <: AbstractPoint\n",
    "    x\n",
    "    y\n",
    "end\n",
    "struct ConcretePoint <: AbstractPoint\n",
    "    x::Float64\n",
    "    y::Float64\n",
    "end"
   ]
  },
  {
   "cell_type": "code",
   "execution_count": 43,
   "metadata": {},
   "outputs": [
    {
     "data": {
      "text/plain": [
       "sumsqr_points (generic function with 1 method)"
      ]
     },
     "metadata": {},
     "output_type": "display_data"
    }
   ],
   "source": [
    "function sumsqr_points(a::Vector{T}) where T <: AbstractPoint\n",
    "    r = 0.0\n",
    "    for i in 1:length(a)\n",
    "        r += a[i].x ^ 2 + a[i].y ^ 2\n",
    "    end\n",
    "    return r\n",
    "end"
   ]
  },
  {
   "cell_type": "code",
   "execution_count": 44,
   "metadata": {},
   "outputs": [
    {
     "data": {
      "text/plain": [
       "1000000-element Vector{ConcretePoint}:\n",
       " ConcretePoint(0.3862741777916191, 0.745399921028031)\n",
       " ConcretePoint(0.6154117686785756, 0.17284983645905416)\n",
       " ConcretePoint(0.3734149323794227, 0.029913835748310635)\n",
       " ConcretePoint(0.49872260603577945, 0.7417812787561356)\n",
       " ConcretePoint(0.45384403857072775, 0.5995073401057808)\n",
       " ConcretePoint(0.6371867485442682, 0.12743517302198837)\n",
       " ConcretePoint(0.9830270034012977, 0.8971483478590909)\n",
       " ConcretePoint(0.9186127587992086, 0.58702715261827)\n",
       " ConcretePoint(0.647389440606355, 0.21438505986434364)\n",
       " ConcretePoint(0.7864818678423127, 0.3909365199242639)\n",
       " ⋮\n",
       " ConcretePoint(0.2753462090039829, 0.28721988898123474)\n",
       " ConcretePoint(0.09905781688078852, 0.5346513851317843)\n",
       " ConcretePoint(0.7271682955546223, 0.8542653204677637)\n",
       " ConcretePoint(0.44192176841140574, 0.20291853232823853)\n",
       " ConcretePoint(0.2729816549064912, 0.7938307162145429)\n",
       " ConcretePoint(0.8153464792223171, 0.449155845591817)\n",
       " ConcretePoint(0.6824462208450885, 0.08782009676235791)\n",
       " ConcretePoint(0.5378155776058533, 0.926761096145898)\n",
       " ConcretePoint(0.6630337634114224, 0.765597021689847)"
      ]
     },
     "metadata": {},
     "output_type": "display_data"
    }
   ],
   "source": [
    "p_array = [Point(rand(), rand()) for i in 1:1000_000]\n",
    "cp_array = [ConcretePoint(rand(), rand()) for i in 1:1000_000]"
   ]
  },
  {
   "cell_type": "code",
   "execution_count": 45,
   "metadata": {},
   "outputs": [
    {
     "name": "stdout",
     "output_type": "stream",
     "text": [
      "  61.782 ms (4000000 allocations: 61.04 MiB)\n"
     ]
    },
    {
     "name": "stdout",
     "output_type": "stream",
     "text": [
      "  633.053 μs (1 allocation: 16 bytes)\n"
     ]
    },
    {
     "data": {
      "text/plain": [
       "666709.7657388494"
      ]
     },
     "metadata": {},
     "output_type": "display_data"
    }
   ],
   "source": [
    "@btime sumsqr_points(p_array)\n",
    "@btime sumsqr_points(cp_array)"
   ]
  },
  {
   "cell_type": "markdown",
   "metadata": {},
   "source": [
    "#### Parametric composite types\n",
    "Make the type more flexible"
   ]
  },
  {
   "cell_type": "code",
   "execution_count": 46,
   "metadata": {},
   "outputs": [],
   "source": [
    "struct PointWithAbstract <: AbstractPoint\n",
    "    x::AbstractFloat\n",
    "    y::AbstractFloat\n",
    "end"
   ]
  },
  {
   "cell_type": "code",
   "execution_count": 47,
   "metadata": {},
   "outputs": [],
   "source": [
    "struct ParametricPoint{T <: AbstractFloat} <: AbstractPoint\n",
    "    x::T\n",
    "    y::T\n",
    "end"
   ]
  },
  {
   "cell_type": "code",
   "execution_count": 48,
   "metadata": {},
   "outputs": [
    {
     "data": {
      "text/plain": [
       "1000000-element Vector{ParametricPoint{Float64}}:\n",
       " ParametricPoint{Float64}(0.5804890623409619, 0.9483743204687298)\n",
       " ParametricPoint{Float64}(0.481674657648568, 0.3739821318422739)\n",
       " ParametricPoint{Float64}(0.6486971108867966, 0.330093079150098)\n",
       " ParametricPoint{Float64}(0.6291623959823697, 0.4485489993526761)\n",
       " ParametricPoint{Float64}(0.746841036678508, 0.9875585969983656)\n",
       " ParametricPoint{Float64}(0.8028737687073146, 0.45412287816865293)\n",
       " ParametricPoint{Float64}(0.24118192176002073, 0.11555036356831883)\n",
       " ParametricPoint{Float64}(0.754135492519933, 0.6563666209719407)\n",
       " ParametricPoint{Float64}(0.44638349057188065, 0.36819819656388497)\n",
       " ParametricPoint{Float64}(0.2886495889366384, 0.0672549810577392)\n",
       " ⋮\n",
       " ParametricPoint{Float64}(0.20121273942566764, 0.4347436560448147)\n",
       " ParametricPoint{Float64}(0.923959243912987, 0.22221716589220775)\n",
       " ParametricPoint{Float64}(0.16631275582551308, 0.9543029100493421)\n",
       " ParametricPoint{Float64}(0.44272787834737104, 0.7889558200859931)\n",
       " ParametricPoint{Float64}(0.37673697079792934, 0.001749079427808553)\n",
       " ParametricPoint{Float64}(0.005013093636431765, 0.18030971864063983)\n",
       " ParametricPoint{Float64}(0.558364389582333, 0.34533201034198013)\n",
       " ParametricPoint{Float64}(0.024682645813437376, 0.2986714540201859)\n",
       " ParametricPoint{Float64}(0.7707973825796065, 0.8550467237858395)"
      ]
     },
     "metadata": {},
     "output_type": "display_data"
    }
   ],
   "source": [
    "pwa_array = [PointWithAbstract(rand(), rand()) for i in 1:1000_000]\n",
    "pp_array = [ParametricPoint(rand(), rand()) for i in 1:1000_000]"
   ]
  },
  {
   "cell_type": "code",
   "execution_count": 49,
   "metadata": {},
   "outputs": [
    {
     "name": "stdout",
     "output_type": "stream",
     "text": [
      "  72.034 ms (4000000 allocations: 61.04 MiB)\n"
     ]
    },
    {
     "name": "stdout",
     "output_type": "stream",
     "text": [
      "  656.265 μs (1 allocation: 16 bytes)\n"
     ]
    },
    {
     "data": {
      "text/plain": [
       "666304.9114973872"
      ]
     },
     "metadata": {},
     "output_type": "display_data"
    }
   ],
   "source": [
    "@btime sumsqr_points(pwa_array)\n",
    "@btime sumsqr_points(pp_array)"
   ]
  }
 ],
 "metadata": {
  "kernelspec": {
   "display_name": "Julia 1.10.0",
   "language": "julia",
   "name": "julia-1.10"
  },
  "language_info": {
   "file_extension": ".jl",
   "mimetype": "application/julia",
   "name": "julia",
   "version": "1.10.0"
  }
 },
 "nbformat": 4,
 "nbformat_minor": 2
}

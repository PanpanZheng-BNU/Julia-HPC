{
 "cells": [
  {
   "cell_type": "markdown",
   "metadata": {},
   "source": [
    "## C03 Making Fast Function Calls\n",
    "### Using Globals\n",
    "> Don't use globals in performance critical parts of code\n",
    "\n",
    "#### The trouble with globals\n",
    "Compiler has been unable to infer the type of result when working with the global variable, marking it as `Any`"
   ]
  },
  {
   "cell_type": "code",
   "execution_count": 1,
   "metadata": {},
   "outputs": [],
   "source": [
    "using BenchmarkTools"
   ]
  },
  {
   "cell_type": "code",
   "execution_count": 2,
   "metadata": {},
   "outputs": [
    {
     "data": {
      "text/plain": [
       "pow_array (generic function with 1 method)"
      ]
     },
     "metadata": {},
     "output_type": "display_data"
    }
   ],
   "source": [
    "p = 2\n",
    "function pow_array(x::Vector{Float64})\n",
    "    s = 0.0\n",
    "    for y in x\n",
    "        s += y^p\n",
    "    end\n",
    "    return s\n",
    "end"
   ]
  },
  {
   "cell_type": "code",
   "execution_count": 3,
   "metadata": {},
   "outputs": [
    {
     "name": "stdout",
     "output_type": "stream",
     "text": [
      "  3.821 ms (300000 allocations: 4.58 MiB)\n"
     ]
    }
   ],
   "source": [
    "t = rand(100000);\n",
    "@btime pow_array(t);"
   ]
  },
  {
   "cell_type": "code",
   "execution_count": 4,
   "metadata": {},
   "outputs": [
    {
     "name": "stdout",
     "output_type": "stream",
     "text": [
      "MethodInstance for pow_array(::Vector{Float64})\n",
      "  from pow_array(\u001b[90mx\u001b[39m::\u001b[1mVector\u001b[22m\u001b[0m{Float64})\u001b[90m @\u001b[39m \u001b[90mMain\u001b[39m \u001b[90m~/code/Julia-HPC/\u001b[39m\u001b[90m\u001b[4m03-Functions.ipynb:2\u001b[24m\u001b[39m\n",
      "Arguments\n",
      "  #self#"
     ]
    },
    {
     "name": "stdout",
     "output_type": "stream",
     "text": [
      "\u001b[36m::Core.Const(pow_array)\u001b[39m\n",
      "  x\u001b[36m::Vector{Float64}\u001b[39m\n",
      "Locals\n",
      "  @_3\u001b[33m\u001b[1m::Union{Nothing, Tuple{Float64, Int64}}\u001b[22m\u001b[39m\n",
      "  s\u001b[91m\u001b[1m::Any\u001b[22m\u001b[39m\n",
      "  y\u001b[36m::Float64\u001b[39m\n",
      "Body\u001b[91m\u001b[1m::Any\u001b[22m\u001b[39m\n",
      "\u001b[90m1 ─\u001b[39m"
     ]
    },
    {
     "name": "stdout",
     "output_type": "stream",
     "text": [
      "       "
     ]
    },
    {
     "name": "stdout",
     "output_type": "stream",
     "text": [
      "(s = 0.0)\n"
     ]
    },
    {
     "name": "stdout",
     "output_type": "stream",
     "text": [
      "\u001b[90m│  \u001b[39m %2  = x\u001b[36m::Vector{Float64}\u001b[39m\n",
      "\u001b[90m│  \u001b[39m       (@_3 = Base.iterate(%"
     ]
    },
    {
     "name": "stdout",
     "output_type": "stream",
     "text": [
      "2))\n",
      "\u001b[90m│  \u001b[39m %4  = (@_3 === nothing)\u001b[36m::Bool\u001b[39m\n",
      "\u001b[90m│  \u001b[39m %5  = Base.not_int(%4)\u001b[36m::Bool\u001b[39m\n",
      "\u001b[90m└──\u001b[39m       goto #4 if not %5\n",
      "\u001b[90m2 ┄\u001b[39m %7  = @_3\u001b[36m::Tuple{Float64, Int64}\u001b[39m\n",
      "\u001b[90m│  \u001b[39m       (y = Core.getfield(%7, 1))\n",
      "\u001b[90m│  \u001b[39m %9  = Core.getfield(%7, 2)\u001b[36m::Int64\u001b[39m\n",
      "\u001b[90m│  \u001b[39m %10 = s\u001b[91m\u001b[1m::Any\u001b[22m\u001b[39m\n",
      "\u001b[90m│  \u001b[39m %11 = (y ^ Main.p)\u001b[91m\u001b[1m::Any\u001b[22m\u001b[39m\n",
      "\u001b[90m│  \u001b[39m       (s = %10 + %11)\n",
      "\u001b[90m│  \u001b[39m       (@_3 = Base.iterate(%2, %9))\n",
      "\u001b[90m│  \u001b[39m %14 = (@_3 === nothing)\u001b[36m::Bool\u001b[39m\n",
      "\u001b[90m│  \u001b[39m %15 = Base.not_int(%14)\u001b[36m::Bool\u001b[39m\n",
      "\u001b[90m└──\u001b[39m       goto #4 if not %15\n",
      "\u001b[90m3 ─\u001b[39m       goto #2\n",
      "\u001b[90m4 ┄\u001b[39m       return s\n",
      "\n"
     ]
    }
   ],
   "source": [
    "@code_warntype pow_array(t)"
   ]
  },
  {
   "cell_type": "markdown",
   "metadata": {},
   "source": [
    "#### Fixing performance issues with globals\n",
    "There are two ways to correct the issues of globals\n",
    "1. `const p`: which will constrain the type of variable p.\n",
    "2. `pow(array::Vector{Float64}, p)`: make the `p` being the argument of function, during which the type of `p` will be inference."
   ]
  },
  {
   "cell_type": "code",
   "execution_count": 5,
   "metadata": {},
   "outputs": [
    {
     "data": {
      "text/plain": [
       "pow_array2 (generic function with 1 method)"
      ]
     },
     "metadata": {},
     "output_type": "display_data"
    }
   ],
   "source": [
    "const p2 = 2\n",
    "function pow_array2(x::Vector{Float64})\n",
    "    s = 0.0\n",
    "    for y in x\n",
    "        s += y^p2\n",
    "    end\n",
    "    return s\n",
    "end"
   ]
  },
  {
   "cell_type": "code",
   "execution_count": 6,
   "metadata": {},
   "outputs": [
    {
     "name": "stdout",
     "output_type": "stream",
     "text": [
      "  443.834 μs (0 allocations: 0 bytes)\n"
     ]
    }
   ],
   "source": [
    "@btime pow_array2(t);"
   ]
  },
  {
   "cell_type": "code",
   "execution_count": 7,
   "metadata": {},
   "outputs": [
    {
     "name": "stdout",
     "output_type": "stream",
     "text": [
      "MethodInstance for pow_array2(::Vector{Float64})\n",
      "  from pow_array2(\u001b[90mx\u001b[39m::\u001b[1mVector\u001b[22m\u001b[0m{Float64})\u001b[90m @\u001b[39m \u001b[90mMain\u001b[39m \u001b[90m~/code/Julia-HPC/\u001b[39m\u001b[90m\u001b[4m03-Functions.ipynb:2\u001b[24m\u001b[39m\n",
      "Arguments\n",
      "  #self#\u001b[36m::Core.Const(pow_array2)\u001b[39m\n",
      "  x\u001b[36m::Vector{Float64}\u001b[39m\n",
      "Locals\n",
      "  @_3\u001b[33m\u001b[1m::Union{Nothing, Tuple{Float64, Int64}}\u001b[22m\u001b[39m\n",
      "  s\u001b[36m::Float64\u001b[39m\n",
      "  y\u001b[36m::Float64\u001b[39m\n",
      "Body\u001b[36m::Float64\u001b[39m\n",
      "\u001b[90m1 ─\u001b[39m       (s = 0.0)\n",
      "\u001b[90m│  \u001b[39m %2  = x\u001b[36m::Vector{Float64}\u001b[39m\n",
      "\u001b[90m│  \u001b[39m       (@_3 = Base.iterate(%2))\n",
      "\u001b[90m│  \u001b[39m %4  = (@_3 === nothing)\u001b[36m::Bool\u001b[39m\n",
      "\u001b[90m│  \u001b[39m %5  = Base.not_int(%4)\u001b[36m::Bool\u001b[39m\n",
      "\u001b[90m└──\u001b[39m       goto #4 if not %5\n",
      "\u001b[90m2 ┄\u001b[39m %7  = @_3\u001b[36m::Tuple{Float64, Int64}\u001b[39m\n",
      "\u001b[90m│  \u001b[39m       (y = Core.getfield(%7, 1))\n",
      "\u001b[90m│  \u001b[39m %9  = Core.getfield(%7, 2)\u001b[36m::Int64\u001b[39m\n",
      "\u001b[90m│  \u001b[39m %10 = s\u001b[36m::Float64\u001b[39m\n",
      "\u001b[90m│  \u001b[39m %11 = (y ^ Main.p2)\u001b[36m::Float64\u001b[39m\n",
      "\u001b[90m│  \u001b[39m       (s = %10 + %11)\n",
      "\u001b[90m│  \u001b[39m       (@_3 = Base.iterate(%2, %9))\n",
      "\u001b[90m│  \u001b[39m %14 = (@_3 === nothing)\u001b[36m::Bool\u001b[39m\n",
      "\u001b[90m│  \u001b[39m %15 = Base.not_int(%14)\u001b[36m::Bool\u001b[39m\n",
      "\u001b[90m└──\u001b[39m       goto #4 if not %15\n",
      "\u001b[90m3 ─\u001b[39m       goto #2\n",
      "\u001b[90m4 ┄\u001b[39m       return s\n",
      "\n"
     ]
    }
   ],
   "source": [
    "@code_warntype pow_array2(t)"
   ]
  },
  {
   "cell_type": "code",
   "execution_count": 8,
   "metadata": {},
   "outputs": [
    {
     "data": {
      "text/plain": [
       "pow_array_inner (generic function with 1 method)"
      ]
     },
     "metadata": {},
     "output_type": "display_data"
    }
   ],
   "source": [
    "function pow_array3(x::Vector{Float64})\n",
    "    return pow_array_inner(x, p)\n",
    "end\n",
    "\n",
    "function pow_array_inner(x, pow)\n",
    "    s = 0.0\n",
    "    for y in x\n",
    "        s += y^pow\n",
    "    end\n",
    "    return s\n",
    "end"
   ]
  },
  {
   "cell_type": "code",
   "execution_count": 9,
   "metadata": {},
   "outputs": [
    {
     "name": "stdout",
     "output_type": "stream",
     "text": [
      "  313.258 μs (1 allocation: 16 bytes)\n"
     ]
    }
   ],
   "source": [
    "@btime pow_array3(t);"
   ]
  },
  {
   "cell_type": "markdown",
   "metadata": {},
   "source": [
    "### Inlining\n",
    "#### Default Inlining\n"
   ]
  },
  {
   "cell_type": "code",
   "execution_count": 10,
   "metadata": {},
   "outputs": [
    {
     "data": {
      "text/plain": [
       "g (generic function with 1 method)"
      ]
     },
     "metadata": {},
     "output_type": "display_data"
    }
   ],
   "source": [
    "function f(x)\n",
    "    a = x * 5\n",
    "    b = a + 3\n",
    "end\n",
    "g(x) = f(2 * x)"
   ]
  },
  {
   "cell_type": "code",
   "execution_count": 11,
   "metadata": {},
   "outputs": [
    {
     "data": {
      "text/plain": [
       "CodeInfo(\n",
       "\u001b[90m1 ─\u001b[39m %1 = Base.mul_int(2, x)\u001b[36m::Int64\u001b[39m\n",
       "\u001b[90m│  \u001b[39m %2 = Base.mul_int(%1, 5)\u001b[36m::Int64\u001b[39m\n",
       "\u001b[90m│  \u001b[39m %3 = Base.add_int(%2, 3)\u001b[36m::Int64\u001b[39m\n",
       "\u001b[90m└──\u001b[39m      return %3\n",
       ") => Int64"
      ]
     },
     "metadata": {},
     "output_type": "display_data"
    }
   ],
   "source": [
    "@code_typed g(3)"
   ]
  },
  {
   "cell_type": "code",
   "execution_count": 12,
   "metadata": {},
   "outputs": [
    {
     "name": "stdout",
     "output_type": "stream",
     "text": [
      "\u001b[90m;  @ /home/zpp/code/Julia-HPC/03-Functions.ipynb:5 within `g`\u001b[39m\n",
      "\u001b[95mdefine\u001b[39m "
     ]
    },
    {
     "name": "stdout",
     "output_type": "stream",
     "text": [
      "\u001b[36mi64\u001b[39m \u001b[93m@julia_g_1771\u001b[39m\u001b[33m(\u001b[39m\u001b[36mi64\u001b[39m \u001b[95msignext\u001b[39m \u001b[0m%0\u001b[33m)\u001b[39m \u001b[0m#0 \u001b[33m{\u001b[39m\n",
      "\u001b[91mtop:\u001b[39m\n",
      "\u001b[90m; ┌ @ /home/zpp/code/Julia-HPC/03-Functions.ipynb:2 within `f`\u001b[39m\n",
      "\u001b[90m; │┌ @ int.jl:88 within `*`\u001b[39m\n",
      "    \u001b[0m%1 "
     ]
    },
    {
     "name": "stdout",
     "output_type": "stream",
     "text": [
      "\u001b[0m= \u001b[96m\u001b[1mmul\u001b[22m\u001b[39m \u001b[36mi64\u001b[39m \u001b[0m%0\u001b[0m, \u001b[33m10\u001b[39m\n",
      "\u001b[90m; │└\u001b[39m\n",
      "\u001b[90m; │ @ /home/zpp/code/Julia-HPC/03-Functions.ipynb:3 within `f`\u001b[39m\n",
      "\u001b[90m; │┌ @ int.jl:87 within `+`\u001b[39m\n",
      "    \u001b[0m%2 \u001b[0m= \u001b[96m\u001b[1madd\u001b[22m\u001b[39m \u001b[36mi64\u001b[39m \u001b[0m%1\u001b[0m, \u001b[33m3\u001b[39m\n",
      "\u001b[90m; └└\u001b[39m\n",
      "  \u001b[96m\u001b[1mret\u001b[22m\u001b[39m \u001b[36mi64\u001b[39m \u001b[0m%2\n",
      "\u001b[33m}\u001b[39m\n"
     ]
    }
   ],
   "source": [
    "@code_llvm g(3)"
   ]
  },
  {
   "cell_type": "markdown",
   "metadata": {},
   "source": [
    "#### Controlling inlining\n",
    "- `@inline`: make function be inlining\n",
    "- `@noinline`: make function not be inlining"
   ]
  },
  {
   "cell_type": "code",
   "execution_count": 13,
   "metadata": {},
   "outputs": [
    {
     "data": {
      "text/plain": [
       "f (generic function with 1 method)"
      ]
     },
     "metadata": {},
     "output_type": "display_data"
    }
   ],
   "source": [
    "@noinline function f(x)\n",
    "    a = x * 5\n",
    "    b = a + 3\n",
    "    c = a - 4\n",
    "    if c < 0\n",
    "        throw(DomainError())\n",
    "    elseif c < 2\n",
    "        d = c^3\n",
    "    else\n",
    "        d = c^2\n",
    "    end\n",
    "end\n"
   ]
  },
  {
   "cell_type": "code",
   "execution_count": 14,
   "metadata": {},
   "outputs": [
    {
     "data": {
      "text/plain": [
       "CodeInfo(\n",
       "\u001b[90m1 ─\u001b[39m %1 = Base.mul_int(2, x)\u001b[36m::Int64\u001b[39m\n",
       "\u001b[90m│  \u001b[39m %2 = invoke Main.f(%1::Int64)\u001b[36m::Int64\u001b[39m\n",
       "\u001b[90m└──\u001b[39m      return %2\n",
       ") => Int64"
      ]
     },
     "metadata": {},
     "output_type": "display_data"
    }
   ],
   "source": [
    "@code_typed g(3)"
   ]
  },
  {
   "cell_type": "code",
   "execution_count": 15,
   "metadata": {},
   "outputs": [
    {
     "data": {
      "text/plain": [
       "g_in (generic function with 1 method)"
      ]
     },
     "metadata": {},
     "output_type": "display_data"
    }
   ],
   "source": [
    "@inline function f_in(x)\n",
    "    a = x * 5\n",
    "    b = a + 3\n",
    "    c = a - 4\n",
    "    if c < 0\n",
    "        throw(DomainError())\n",
    "    elseif c < 2\n",
    "        d = c^3\n",
    "    else\n",
    "        d = c^2\n",
    "    end\n",
    "end\n",
    "\n",
    "g_in(x) = f_in(2 * x)"
   ]
  },
  {
   "cell_type": "code",
   "execution_count": 16,
   "metadata": {},
   "outputs": [
    {
     "data": {
      "text/plain": [
       "CodeInfo(\n",
       "\u001b[90m1 ─\u001b[39m %1  = Base.mul_int(2, x)\u001b[36m::Int64\u001b[39m\n",
       "\u001b[90m│  \u001b[39m %2  = Base.mul_int(%1, 5)\u001b[36m::Int64\u001b[39m\n",
       "\u001b[90m│  \u001b[39m %3  = Base.sub_int(%2, 4)\u001b[36m::Int64\u001b[39m\n",
       "\u001b[90m│  \u001b[39m %4  = Base.slt_int(%3, 0)\u001b[36m::Bool\u001b[39m\n",
       "\u001b[90m└──\u001b[39m       goto #3 if not %4\n",
       "\u001b[90m2 ─\u001b[39m       Main.DomainError()\u001b[90m::Union{}\u001b[39m\n",
       "\u001b[90m└──\u001b[39m       unreachable\n",
       "\u001b[90m3 ─\u001b[39m %8  = Base.slt_int(%3, 2)\u001b[36m::Bool\u001b[39m\n",
       "\u001b[90m└──\u001b[39m       goto #5 if not %8\n",
       "\u001b[90m4 ─\u001b[39m %10 = Base.mul_int(%3, %3)\u001b[36m::Int64\u001b[39m\n",
       "\u001b[90m│  \u001b[39m %11 = Base.mul_int(%10, %3)\u001b[36m::Int64\u001b[39m\n",
       "\u001b[90m└──\u001b[39m       goto #6\n",
       "\u001b[90m5 ─\u001b[39m %13 = Base.mul_int(%3, %3)\u001b[36m::Int64\u001b[39m\n",
       "\u001b[90m└──\u001b[39m       goto #6\n",
       "\u001b[90m6 ┄\u001b[39m %15 = φ (#4 => %11, #5 => %13)\u001b[36m::Int64\u001b[39m\n",
       "\u001b[90m└──\u001b[39m       return %15\n",
       ") => Int64"
      ]
     },
     "metadata": {},
     "output_type": "display_data"
    }
   ],
   "source": [
    "@code_typed g_in(3)"
   ]
  },
  {
   "cell_type": "code",
   "execution_count": 17,
   "metadata": {},
   "outputs": [
    {
     "name": "stdout",
     "output_type": "stream",
     "text": [
      "  1.263 ns (0 allocations: 0 bytes)\n"
     ]
    },
    {
     "name": "stdout",
     "output_type": "stream",
     "text": [
      "  1.265 ns (0 allocations: 0 bytes)\n"
     ]
    }
   ],
   "source": [
    "@btime g(3);\n",
    "@btime g_in(3);"
   ]
  },
  {
   "cell_type": "markdown",
   "metadata": {},
   "source": [
    "### Constant propagation\n"
   ]
  },
  {
   "cell_type": "code",
   "execution_count": 18,
   "metadata": {},
   "outputs": [
    {
     "data": {
      "text/plain": [
       "sqr2 (generic function with 1 method)"
      ]
     },
     "metadata": {},
     "output_type": "display_data"
    }
   ],
   "source": [
    "sqr(x) = x * x;\n",
    "sqr2() = sqr(2)"
   ]
  },
  {
   "cell_type": "code",
   "execution_count": 19,
   "metadata": {},
   "outputs": [
    {
     "data": {
      "text/plain": [
       "CodeInfo(\n",
       "\u001b[90m1 ─\u001b[39m %1 = Base.mul_int(x, x)\u001b[36m::Int64\u001b[39m\n",
       "\u001b[90m└──\u001b[39m      return %1\n",
       ") => Int64"
      ]
     },
     "metadata": {},
     "output_type": "display_data"
    }
   ],
   "source": [
    "@code_typed sqr(2)"
   ]
  },
  {
   "cell_type": "code",
   "execution_count": 20,
   "metadata": {},
   "outputs": [
    {
     "data": {
      "text/plain": [
       "CodeInfo(\n",
       "\u001b[90m1 ─\u001b[39m     return 4\n",
       ") => Int64"
      ]
     },
     "metadata": {},
     "output_type": "display_data"
    }
   ],
   "source": [
    "@code_typed sqr2()"
   ]
  },
  {
   "cell_type": "markdown",
   "metadata": {},
   "source": [
    "### Using marcos for performance\n",
    "#### The Julia compilation process\n",
    "<img src=\"https://new-pic-zpp.oss-cn-guangzhou.aliyuncs.com/pic/202401161046940.png\" width=650/>\n",
    "\n",
    "#### Using marcos\n",
    "- Marcos are code that can be used to write other code. A marco is executed very early in the compilation process.\n",
    "\n",
    "#### Evaluating a polynomial\n",
    "$$\n",
    "p(x) = \\sum_{i=0}^{n} a_{i} x^{i} = a_{0} + a_{1}x + a_{2}x^{2} + \\cdots + a_{n}x^{n}\n",
    "$$"
   ]
  },
  {
   "cell_type": "code",
   "execution_count": 21,
   "metadata": {},
   "outputs": [
    {
     "data": {
      "text/plain": [
       "poly_naive (generic function with 1 method)"
      ]
     },
     "metadata": {},
     "output_type": "display_data"
    }
   ],
   "source": [
    "function poly_naive(x, a...)\n",
    "    p = zero(x)\n",
    "    for i in 1:length(a)\n",
    "        p = p + a[i] * x^(i-1)\n",
    "    end\n",
    "    return p\n",
    "end"
   ]
  },
  {
   "cell_type": "code",
   "execution_count": 22,
   "metadata": {},
   "outputs": [
    {
     "data": {
      "text/plain": [
       "f_naive (generic function with 1 method)"
      ]
     },
     "metadata": {},
     "output_type": "display_data"
    }
   ],
   "source": [
    "f_naive(x) = poly_naive(x, 1,2,3,4,5,6,7,8,9)"
   ]
  },
  {
   "cell_type": "code",
   "execution_count": 23,
   "metadata": {},
   "outputs": [
    {
     "name": "stdout",
     "output_type": "stream",
     "text": [
      "  45.220 ns (1 allocation: 16 bytes)\n"
     ]
    },
    {
     "data": {
      "text/plain": [
       "271125.95703125"
      ]
     },
     "metadata": {},
     "output_type": "display_data"
    }
   ],
   "source": [
    "x = 3.5\n",
    "@btime f_naive(x)"
   ]
  },
  {
   "cell_type": "code",
   "execution_count": 24,
   "metadata": {},
   "outputs": [
    {
     "name": "stdout",
     "output_type": "stream",
     "text": [
      "MethodInstance for f_naive(::Float64)\n",
      "  from f_naive(\u001b[90mx\u001b[39m)\u001b[90m @\u001b[39m \u001b[90mMain\u001b[39m \u001b[90m~/code/Julia-HPC/\u001b[39m\u001b[90m\u001b[4m03-Functions.ipynb:1\u001b[24m\u001b[39m\n",
      "Arguments\n",
      "  #self#\u001b[36m::Core.Const(f_naive)\u001b[39m\n",
      "  x\u001b[36m::Float64\u001b[39m\n",
      "Body\u001b[36m::Float64\u001b[39m\n",
      "\u001b[90m1 ─\u001b[39m %1 = Main.poly_naive(x, 1, 2, 3, 4, 5, 6, 7, 8, 9)\u001b[36m::Float64\u001b[39m\n",
      "\u001b[90m└──\u001b[39m      return %1\n",
      "\n"
     ]
    }
   ],
   "source": [
    "@code_warntype f_naive(x)"
   ]
  },
  {
   "cell_type": "code",
   "execution_count": 25,
   "metadata": {},
   "outputs": [
    {
     "data": {
      "text/plain": [
       "4638.344324986463"
      ]
     },
     "metadata": {},
     "output_type": "display_data"
    }
   ],
   "source": [
    "peakflops() * 52e-9"
   ]
  },
  {
   "cell_type": "markdown",
   "metadata": {},
   "source": [
    "#### Horner's method\n",
    "$$\n",
    "\\begin{split}\n",
    "b_{n} & = a_{n} \\\\\n",
    "b_{n-1} & =  a_{n-1} + b_{n} x \\\\\n",
    "b_{n-2} & =  a_{n-2} + b_{n-1} x \\\\\n",
    "& \\vdots \\\\\n",
    "b_{0} & =  a_{0} + b_{1}x\n",
    "\\end{split}\n",
    "$$\n"
   ]
  },
  {
   "cell_type": "code",
   "execution_count": 26,
   "metadata": {},
   "outputs": [
    {
     "data": {
      "text/plain": [
       "poly_horner (generic function with 1 method)"
      ]
     },
     "metadata": {},
     "output_type": "display_data"
    }
   ],
   "source": [
    "function poly_horner(x, a...)\n",
    "    b = zero(x); \n",
    "    for i in length(a):-1:1\n",
    "        b = a[i] + b * x\n",
    "    end\n",
    "    return b\n",
    "end"
   ]
  },
  {
   "cell_type": "code",
   "execution_count": 27,
   "metadata": {},
   "outputs": [
    {
     "data": {
      "text/plain": [
       "f_hornor (generic function with 1 method)"
      ]
     },
     "metadata": {},
     "output_type": "display_data"
    }
   ],
   "source": [
    "f_hornor(x) =  poly_horner(x, 1,2,3,4,5,6,7,8,9)"
   ]
  },
  {
   "cell_type": "code",
   "execution_count": 28,
   "metadata": {},
   "outputs": [
    {
     "name": "stdout",
     "output_type": "stream",
     "text": [
      "  17.771 ns (0 allocations: 0 bytes)\n"
     ]
    },
    {
     "data": {
      "text/plain": [
       "271125.95703125"
      ]
     },
     "metadata": {},
     "output_type": "display_data"
    }
   ],
   "source": [
    "@btime f_hornor($x)"
   ]
  },
  {
   "cell_type": "markdown",
   "metadata": {},
   "source": [
    "#### The Horner marco\n",
    "- The coefficients of the polynomial are constants. They don't change and are known when writing the program. Could write as \n",
    "`muladd(x, muladd(x, muladd(x, muladd(x, ..., 4), 3), 2), 1)`"
   ]
  },
  {
   "cell_type": "code",
   "execution_count": 29,
   "metadata": {},
   "outputs": [
    {
     "data": {
      "text/plain": [
       "@horner (macro with 1 method)"
      ]
     },
     "metadata": {},
     "output_type": "display_data"
    }
   ],
   "source": [
    "macro horner(x, p...)\n",
    "    ex = esc(p[end])\n",
    "    for i in length(p)-1:-1:1\n",
    "        ex = :(muladd(t, $ex, $(esc(p[i]))))\n",
    "    end\n",
    "    Expr(:block, :(t = $(esc(x))), ex)\n",
    "end"
   ]
  },
  {
   "cell_type": "code",
   "execution_count": 30,
   "metadata": {},
   "outputs": [
    {
     "data": {
      "text/plain": [
       "f_horner_macro (generic function with 1 method)"
      ]
     },
     "metadata": {},
     "output_type": "display_data"
    }
   ],
   "source": [
    "f_horner_macro(x) = @horner(x, 1,2,3,4,5,6,7,8,9)"
   ]
  },
  {
   "cell_type": "code",
   "execution_count": 31,
   "metadata": {},
   "outputs": [
    {
     "name": "stdout",
     "output_type": "stream",
     "text": [
      "  2.538 ns (0 allocations: 0 bytes)\n"
     ]
    },
    {
     "data": {
      "text/plain": [
       "271125.95703125"
      ]
     },
     "metadata": {},
     "output_type": "display_data"
    }
   ],
   "source": [
    "@btime f_horner_macro($x)"
   ]
  },
  {
   "cell_type": "markdown",
   "metadata": {},
   "source": [
    "### Generated functions\n",
    "#### Using generated functions for performance\n",
    "- `@generated`"
   ]
  },
  {
   "cell_type": "code",
   "execution_count": 32,
   "metadata": {},
   "outputs": [
    {
     "data": {
      "text/plain": [
       "prod_dim (generic function with 1 method)"
      ]
     },
     "metadata": {},
     "output_type": "display_data"
    }
   ],
   "source": [
    "function prod_dim(x::Array{T, N}) where {T,N}\n",
    "    s = 1;\n",
    "    for i in 1:N\n",
    "        s = s * size(x,i)\n",
    "    end\n",
    "    return s\n",
    "end"
   ]
  },
  {
   "cell_type": "code",
   "execution_count": 33,
   "metadata": {},
   "outputs": [
    {
     "data": {
      "text/plain": [
       "250"
      ]
     },
     "metadata": {},
     "output_type": "display_data"
    }
   ],
   "source": [
    "prod_dim(rand(10,5,5))"
   ]
  },
  {
   "cell_type": "code",
   "execution_count": 34,
   "metadata": {},
   "outputs": [
    {
     "data": {
      "text/plain": [
       "prod_dim_gen (generic function with 1 method)"
      ]
     },
     "metadata": {},
     "output_type": "display_data"
    }
   ],
   "source": [
    "@generated function prod_dim_gen(x::Array{T,N}) where {T,N}\n",
    "    ex = :(1);\n",
    "    for i in 1:N\n",
    "        ex = :(size(x, $i) * $ex)\n",
    "    end\n",
    "    return ex\n",
    "end"
   ]
  },
  {
   "cell_type": "code",
   "execution_count": 35,
   "metadata": {},
   "outputs": [
    {
     "data": {
      "text/plain": [
       "250"
      ]
     },
     "metadata": {},
     "output_type": "display_data"
    }
   ],
   "source": [
    "prod_dim_gen(rand(10,5,5))"
   ]
  },
  {
   "cell_type": "code",
   "execution_count": 36,
   "metadata": {},
   "outputs": [
    {
     "data": {
      "text/plain": [
       "prod_dim_gen_impl (generic function with 1 method)"
      ]
     },
     "metadata": {},
     "output_type": "display_data"
    }
   ],
   "source": [
    "function prod_dim_gen_impl(x::Array{T, N}) where {T,N}\n",
    "    ex = :(1)\n",
    "    for i in 1:N\n",
    "       ex = :(size(x, $i) * $ex)\n",
    "    end\n",
    "    return ex\n",
    "end"
   ]
  },
  {
   "cell_type": "code",
   "execution_count": 37,
   "metadata": {},
   "outputs": [
    {
     "data": {
      "text/plain": [
       ":(size(x, 3) * (size(x, 2) * (size(x, 1) * 1)))"
      ]
     },
     "metadata": {},
     "output_type": "display_data"
    }
   ],
   "source": [
    "prod_dim_gen_impl(rand(10,5,5))"
   ]
  },
  {
   "cell_type": "code",
   "execution_count": 38,
   "metadata": {},
   "outputs": [
    {
     "data": {
      "text/plain": [
       "polynonial_gen (generic function with 1 method)"
      ]
     },
     "metadata": {},
     "output_type": "display_data"
    }
   ],
   "source": [
    "@generated function polynonial_gen(x, args...)\n",
    "    ex = :(args[end] * one(x));\n",
    "    \n",
    "    for i in length(args)-1:-1:1\n",
    "        ex = :($ex * x + args[$i])\n",
    "    end\n",
    "    return ex\n",
    "end"
   ]
  },
  {
   "cell_type": "code",
   "execution_count": 39,
   "metadata": {},
   "outputs": [
    {
     "ename": "UndefVarError",
     "evalue": "UndefVarError: `Figure` not defined",
     "output_type": "error",
     "traceback": [
      "UndefVarError: `Figure` not defined\n",
      "\n",
      "Stacktrace:\n",
      " [1] top-level scope\n",
      "   @ ~/code/Julia-HPC/03-Functions.ipynb:4"
     ]
    }
   ],
   "source": [
    "x = 3.5\n",
    "xs = range(0, 10, length=100)\n",
    "cc = vcat(1.0, [1/factorial(i) for i in 1:20]...)\n",
    "fig = Figure()\n",
    "ax = Axis(fig[1,1])\n",
    "lines!(ax,xs,polynonial_gen.(xs, cc...))\n",
    "lines!(ax, xs, exp, linestyle=:dash)\n",
    "fig"
   ]
  },
  {
   "cell_type": "code",
   "execution_count": 40,
   "metadata": {},
   "outputs": [
    {
     "name": "stdout",
     "output_type": "stream",
     "text": [
      "  21.532 ns (0 allocations: 0 bytes)\n"
     ]
    }
   ],
   "source": [
    "@btime polynonial_gen($x, 1, 1, 1/factorial(2), 1/factorial(3), 1/factorial(4), 1/factorial(5), 1/factorial(6), 1/factorial(7), 1/factorial(8));"
   ]
  },
  {
   "cell_type": "code",
   "execution_count": 41,
   "metadata": {},
   "outputs": [
    {
     "name": "stdout",
     "output_type": "stream",
     "text": [
      "  351.500 ns (24 allocations: 384 bytes)\n"
     ]
    }
   ],
   "source": [
    "@btime poly_horner($x, $cc...);"
   ]
  },
  {
   "cell_type": "code",
   "execution_count": 42,
   "metadata": {},
   "outputs": [
    {
     "data": {
      "text/plain": [
       "f_m_horner (generic function with 1 method)"
      ]
     },
     "metadata": {},
     "output_type": "display_data"
    }
   ],
   "source": [
    "f_m_horner(x) = @horner(x, 1, 1, 1/factorial(2), 1/factorial(3), 1/factorial(4), 1/factorial(5), 1/factorial(6), 1/factorial(7), 1/factorial(8))"
   ]
  },
  {
   "cell_type": "code",
   "execution_count": 43,
   "metadata": {},
   "outputs": [
    {
     "name": "stdout",
     "output_type": "stream",
     "text": [
      "  8.801 ns (0 allocations: 0 bytes)\n"
     ]
    },
    {
     "data": {
      "text/plain": [
       "32.78848130967882"
      ]
     },
     "metadata": {},
     "output_type": "display_data"
    }
   ],
   "source": [
    "@btime f_m_horner($x)"
   ]
  },
  {
   "cell_type": "code",
   "execution_count": 44,
   "metadata": {},
   "outputs": [
    {
     "data": {
      "text/plain": [
       "@horner_myself (macro with 1 method)"
      ]
     },
     "metadata": {},
     "output_type": "display_data"
    }
   ],
   "source": [
    "macro horner_myself(x, args...)\n",
    "    es = (esc(args[end]));\n",
    "    for i in length(args)-1:-1:1\n",
    "        es = :($es * t + $(esc(args[i])))\n",
    "    end\n",
    "    return Expr(:block, :(t = $(esc(x))), es)\n",
    "end"
   ]
  },
  {
   "cell_type": "code",
   "execution_count": 45,
   "metadata": {},
   "outputs": [
    {
     "data": {
      "text/plain": [
       "horner_gen2 (generic function with 1 method)"
      ]
     },
     "metadata": {},
     "output_type": "display_data"
    }
   ],
   "source": [
    "@generated function horner_gen2(x, args...)\n",
    "    es = :(args[end]);\n",
    "    for i in length(args)-1:-1:1\n",
    "        es = :($es * t + args[$i])\n",
    "    end\n",
    "    return Expr(:block, :(t = x), es)\n",
    "end"
   ]
  },
  {
   "cell_type": "code",
   "execution_count": 46,
   "metadata": {},
   "outputs": [
    {
     "data": {
      "text/plain": [
       "32.78848130967882"
      ]
     },
     "metadata": {},
     "output_type": "display_data"
    }
   ],
   "source": [
    "horner_gen2(x, 1, 1, 1/factorial(2), 1/factorial(3), 1/factorial(4), 1/factorial(5), 1/factorial(6), 1/factorial(7), 1/factorial(8))"
   ]
  },
  {
   "cell_type": "code",
   "execution_count": 47,
   "metadata": {},
   "outputs": [
    {
     "name": "stdout",
     "output_type": "stream",
     "text": [
      "((((((((10t + 9) * t + 8) * t + 7) * t + 6) * t + 5) * t + 4) * t + 3) * t + 2) * t + 1\n",
      "((((((((10t + 9) * t + 8) * t + 7) * t + 6) * t + 5) * t + 4) * t + 3) * t + 2) * t + 1\n",
      "((((((((10t + 9) * t + 8) * t + 7) * t + 6) * t + 5) * t + 4) * t + 3) * t + 2) * t + 1\n",
      "((((((((10t + 9) * t + 8) * t + 7) * t + 6) * t + 5) * t + 4) * t + 3) * t + 2) * t + 1\n",
      "((((((((10t + 9) * t + 8) * t + 7) * t + 6) * t + 5) * t + 4) * t + 3) * t + 2) * t + 1\n",
      "((((((((10t + 9) * t + 8) * t + 7) * t + 6) * t + 5) * t + 4) * t + 3) * t + 2) * t + 1\n",
      "((((((((10t + 9) * t + 8) * t + 7) * t + 6) * t + 5) * t + 4) * t + 3) * t + 2) * t + 1\n",
      "((((((((10t + 9) * t + 8) * t + 7) * t + 6) * t + 5) * t + 4) * t + 3) * t + 2) * t + 1\n",
      "((((((((10t + 9) * t + 8) * t + 7) * t + 6) * t + 5) * t + 4) * t + 3) * t + 2) * t + 1\n",
      "((((((((10t + 9) * t + 8) * t + 7) * t + 6) * t + 5) * t + 4) * t + 3) * t + 2) * t + 1\n"
     ]
    }
   ],
   "source": [
    "args = [1:10...]\n",
    "for i in args\n",
    "    global es = :($(args[end]));\n",
    "    for j in length(args)-1:-1:1\n",
    "        es = :($es * t + $(args[j]))\n",
    "    end\n",
    "    println(es)\n",
    "\n",
    "# :(x * 1)\n",
    "end"
   ]
  },
  {
   "cell_type": "code",
   "execution_count": 48,
   "metadata": {},
   "outputs": [
    {
     "data": {
      "text/plain": [
       "f (generic function with 1 method)"
      ]
     },
     "metadata": {},
     "output_type": "display_data"
    }
   ],
   "source": [
    "f(x) = @horner_myself(x ,1,2,3,4)"
   ]
  },
  {
   "cell_type": "code",
   "execution_count": 49,
   "metadata": {},
   "outputs": [
    {
     "data": {
      "text/plain": [
       "10987654321"
      ]
     },
     "metadata": {},
     "output_type": "display_data"
    }
   ],
   "source": [
    "eval(Expr(:block, :(t = 10), es))"
   ]
  },
  {
   "cell_type": "code",
   "execution_count": 50,
   "metadata": {},
   "outputs": [],
   "source": []
  },
  {
   "cell_type": "code",
   "execution_count": 51,
   "metadata": {},
   "outputs": [
    {
     "data": {
      "text/plain": [
       "199.696"
      ]
     },
     "metadata": {},
     "output_type": "display_data"
    }
   ],
   "source": [
    "f(3.4)"
   ]
  }
 ],
 "metadata": {
  "kernelspec": {
   "display_name": "Julia 1.10.0",
   "language": "julia",
   "name": "julia-1.10"
  },
  "language_info": {
   "file_extension": ".jl",
   "mimetype": "application/julia",
   "name": "julia",
   "version": "1.10.0"
  }
 },
 "nbformat": 4,
 "nbformat_minor": 2
}
